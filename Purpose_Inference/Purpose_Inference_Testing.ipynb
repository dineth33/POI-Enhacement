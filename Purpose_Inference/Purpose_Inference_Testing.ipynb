{
 "cells": [
  {
   "cell_type": "markdown",
   "id": "62ba9ac5",
   "metadata": {
    "tags": []
   },
   "source": [
    "# Purpose Inference Testing for POI enhancement \n",
    "<hr> "
   ]
  },
  {
   "cell_type": "markdown",
   "id": "630d1563",
   "metadata": {},
   "source": [
    "This notebook is used to test the impact of enhanced POI data for the trip purpose inference. Enhanced POI data and the original POI data are used seperately for that requirement. \n",
    "\n",
    "The bayesian purpose inference model proposed by <b> Gong et al. (2015) </b>  and improved by <b> Dhananjaya et al. (2021) </b> is used for this testing. \n",
    "\n",
    "https://www.tandfonline.com/doi/abs/10.1080/15230406.2015.1014424 </br> \n",
    "https://ieeexplore.ieee.org/abstract/document/9655943"
   ]
  },
  {
   "cell_type": "code",
   "execution_count": 1,
   "id": "bedd9030",
   "metadata": {},
   "outputs": [
    {
     "data": {
      "text/plain": [
       "'C:\\\\Users\\\\HP\\\\Desktop\\\\Projects\\\\Trip purpose\\\\POI enhancement\\\\Purpose Inference'"
      ]
     },
     "execution_count": 1,
     "metadata": {},
     "output_type": "execute_result"
    }
   ],
   "source": [
    "# working directory set\n",
    "import os \n",
    "os.chdir(r'C:\\\\Users\\\\HP\\\\Desktop/Projects/Trip purpose/POI enhancement/Purpose Inference')\n",
    "os.getcwd()"
   ]
  },
  {
   "cell_type": "markdown",
   "id": "078fa6f9",
   "metadata": {
    "tags": []
   },
   "source": [
    "## Package Import  "
   ]
  },
  {
   "cell_type": "code",
   "execution_count": 2,
   "id": "8430969d",
   "metadata": {},
   "outputs": [],
   "source": [
    "# general packages \n",
    "import numpy as np \n",
    "import pandas as pd \n",
    "import math \n",
    "from collections import Counter"
   ]
  },
  {
   "cell_type": "code",
   "execution_count": 3,
   "id": "f1f08fc4",
   "metadata": {},
   "outputs": [],
   "source": [
    "# geo packages \n",
    "import geopandas as gpd \n",
    "from shapely.geometry import Point\n",
    "import shapely.speedups \n",
    "shapely.speedups.enable()\n",
    "from shapely.geometry import Polygon"
   ]
  },
  {
   "cell_type": "code",
   "execution_count": 4,
   "id": "bb4282e2",
   "metadata": {},
   "outputs": [],
   "source": [
    "# visualization packages \n",
    "import matplotlib.pyplot as plt\n",
    "import matplotlib.pyplot as plt"
   ]
  },
  {
   "cell_type": "code",
   "execution_count": 5,
   "id": "f18f5401",
   "metadata": {},
   "outputs": [],
   "source": [
    "# ML packages\n",
    "from sklearn.cluster import DBSCAN"
   ]
  },
  {
   "cell_type": "code",
   "execution_count": 6,
   "id": "cb0a8b9b",
   "metadata": {},
   "outputs": [],
   "source": [
    "# remove the default='warns'\n",
    "pd.options.mode.chained_assignment = None "
   ]
  },
  {
   "cell_type": "code",
   "execution_count": 27,
   "id": "ac5179c4",
   "metadata": {},
   "outputs": [],
   "source": [
    "# autocompletion magic command \n",
    "%config Completer.use_jedi = False"
   ]
  },
  {
   "cell_type": "markdown",
   "id": "28d53c54",
   "metadata": {
    "tags": []
   },
   "source": [
    "## Data Import "
   ]
  },
  {
   "cell_type": "markdown",
   "id": "a321f3e7",
   "metadata": {
    "tags": []
   },
   "source": [
    "### Places (POI) data"
   ]
  },
  {
   "cell_type": "code",
   "execution_count": 1,
   "id": "4e5ff822",
   "metadata": {},
   "outputs": [
    {
     "ename": "NameError",
     "evalue": "name 'pd' is not defined",
     "output_type": "error",
     "traceback": [
      "\u001b[1;31m---------------------------------------------------------------------------\u001b[0m",
      "\u001b[1;31mNameError\u001b[0m                                 Traceback (most recent call last)",
      "\u001b[1;32m<ipython-input-1-7350da46061d>\u001b[0m in \u001b[0;36m<module>\u001b[1;34m\u001b[0m\n\u001b[0;32m      1\u001b[0m \u001b[1;31m# prepare the places df before processsing\u001b[0m\u001b[1;33m\u001b[0m\u001b[1;33m\u001b[0m\u001b[1;33m\u001b[0m\u001b[0m\n\u001b[0;32m      2\u001b[0m \u001b[1;31m# add the category/purpose\u001b[0m\u001b[1;33m\u001b[0m\u001b[1;33m\u001b[0m\u001b[1;33m\u001b[0m\u001b[0m\n\u001b[1;32m----> 3\u001b[1;33m \u001b[0mplaces\u001b[0m \u001b[1;33m=\u001b[0m \u001b[0mpd\u001b[0m\u001b[1;33m.\u001b[0m\u001b[0mread_csv\u001b[0m\u001b[1;33m(\u001b[0m\u001b[1;34m'D:\\\\MSC\\Data\\places\\\\Cleaned_Places\\\\thi_jpura_dehi_cleaned_places.csv'\u001b[0m\u001b[1;33m,\u001b[0m\u001b[0mindex_col\u001b[0m \u001b[1;33m=\u001b[0m \u001b[1;36m0\u001b[0m\u001b[1;33m)\u001b[0m\u001b[1;33m\u001b[0m\u001b[1;33m\u001b[0m\u001b[0m\n\u001b[0m\u001b[0;32m      4\u001b[0m \u001b[0mplaces\u001b[0m \u001b[1;33m=\u001b[0m \u001b[0mplaces\u001b[0m\u001b[1;33m.\u001b[0m\u001b[0mdrop\u001b[0m\u001b[1;33m(\u001b[0m\u001b[0mplaces\u001b[0m\u001b[1;33m[\u001b[0m\u001b[0mplaces\u001b[0m\u001b[1;33m[\u001b[0m\u001b[1;34m'type_1'\u001b[0m\u001b[1;33m]\u001b[0m \u001b[1;33m==\u001b[0m \u001b[1;34m'gas_station'\u001b[0m\u001b[1;33m]\u001b[0m\u001b[1;33m.\u001b[0m\u001b[0mindex\u001b[0m\u001b[1;33m)\u001b[0m\u001b[1;33m\u001b[0m\u001b[1;33m\u001b[0m\u001b[0m\n\u001b[0;32m      5\u001b[0m \u001b[0mplaces\u001b[0m\u001b[1;33m.\u001b[0m\u001b[0mreset_index\u001b[0m\u001b[1;33m(\u001b[0m\u001b[0minplace\u001b[0m \u001b[1;33m=\u001b[0m \u001b[1;32mTrue\u001b[0m\u001b[1;33m,\u001b[0m \u001b[0mdrop\u001b[0m \u001b[1;33m=\u001b[0m \u001b[1;32mTrue\u001b[0m\u001b[1;33m)\u001b[0m\u001b[1;33m\u001b[0m\u001b[1;33m\u001b[0m\u001b[0m\n",
      "\u001b[1;31mNameError\u001b[0m: name 'pd' is not defined"
     ]
    }
   ],
   "source": [
    "# prepare the places df before processsing\n",
    "# add the category/purpose \n",
    "places = pd.read_csv('D:\\\\MSC\\Data\\places\\\\Cleaned_Places\\\\thi_jpura_dehi_cleaned_places_predicted_transformed.csv',index_col = 0)\n",
    "places = places.drop(places[places['type_1'] == 'gas_station'].index)\n",
    "places.reset_index(inplace = True, drop = True)\n",
    "places = places[['clean_name','lat','lng','type_1','no_of_ratings','avg_rating','purpose','Type']]"
   ]
  },
  {
   "cell_type": "code",
   "execution_count": 8,
   "id": "3cde91ca",
   "metadata": {},
   "outputs": [],
   "source": [
    "# places gpd creation \n",
    "geometry = [Point(xy) for xy in zip(places.lng, places.lat)]\n",
    "placesgpd  = gpd.GeoDataFrame(places, crs=\"EPSG:4326\", geometry=geometry)\n",
    "placesgpd.crs = \"EPSG:4326\""
   ]
  },
  {
   "cell_type": "code",
   "execution_count": 9,
   "id": "af4258a6",
   "metadata": {},
   "outputs": [
    {
     "data": {
      "text/plain": [
       "(44316, 9)"
      ]
     },
     "execution_count": 9,
     "metadata": {},
     "output_type": "execute_result"
    }
   ],
   "source": [
    "placesgpd.shape"
   ]
  },
  {
   "cell_type": "markdown",
   "id": "ef65e06b",
   "metadata": {},
   "source": [
    "#### Raw POI data "
   ]
  },
  {
   "cell_type": "markdown",
   "id": "1bf38ea6",
   "metadata": {},
   "source": [
    "note that according to the imputation of new labels from the enhancing methods, the feature 'type' includes whether it is an original one 'labelled' or a predicted one 'predicted'. hence, the row data can be achived by filtering as follows."
   ]
  },
  {
   "cell_type": "code",
   "execution_count": 10,
   "id": "f8854293",
   "metadata": {},
   "outputs": [],
   "source": [
    "raw_placesgpd  = placesgpd[placesgpd['Type'] == 'Labelled']"
   ]
  },
  {
   "cell_type": "code",
   "execution_count": 11,
   "id": "0ebc6925",
   "metadata": {},
   "outputs": [
    {
     "data": {
      "text/plain": [
       "(25077, 9)"
      ]
     },
     "execution_count": 11,
     "metadata": {},
     "output_type": "execute_result"
    }
   ],
   "source": [
    "raw_placesgpd.shape"
   ]
  },
  {
   "cell_type": "markdown",
   "id": "669c1b6c",
   "metadata": {
    "heading_collapsed": "true",
    "tags": []
   },
   "source": [
    "### Taxi trips "
   ]
  },
  {
   "cell_type": "code",
   "execution_count": 12,
   "id": "0f62063b",
   "metadata": {},
   "outputs": [],
   "source": [
    "taxitrips = pd.read_csv('D:\\\\MSC\\Data\\pickme_data\\\\nov\\\\total\\\\thi_jupra_dehi_data_nov_45.csv', index_col = 0, parse_dates = [11,12,13])\n",
    "taxitrips = taxitrips[['trip_id', 'passenger_id', 'pickup_lat', 'pickup_long', 'dropoff_lat', 'dropoff_long', 'actual_pickup_time','pickup_time','drop_time']]\n",
    "\n",
    "# optimize the data types \n",
    "taxitrips['trip_id'] = taxitrips ['trip_id'].astype(np.int32)\n",
    "taxitrips[['pickup_lat', 'pickup_long', 'dropoff_lat', 'dropoff_long']] = taxitrips[['pickup_lat', 'pickup_long', 'dropoff_lat', 'dropoff_long']].astype(np.float32)"
   ]
  },
  {
   "cell_type": "markdown",
   "id": "a16181fb",
   "metadata": {
    "tags": []
   },
   "source": [
    "### Inputs for bayesian inference model "
   ]
  },
  {
   "cell_type": "code",
   "execution_count": 28,
   "id": "d2957092",
   "metadata": {},
   "outputs": [],
   "source": [
    "# huanggrid  0 measure the temporal impact for the purposes \n",
    "huanggrid = pd.read_csv('D:\\\\MSC\\Data\\inputs\\HuangGrid.csv',index_col = 0, parse_dates = [0])\n",
    "huanggrid.columns = huanggrid.columns.str.replace(' ', '')\n",
    "huanggrid['Day'] = huanggrid['Day'].str.replace(' ', '')\n",
    "\n",
    "# time df - define the opening and closing times of POIs\n",
    "time_df = pd.read_csv('D:\\\\MSC\\Data\\places\\categories\\category_type_times.csv',index_col=0)\n",
    "time_df.columns = time_df.columns.str.replace(' ', '')"
   ]
  },
  {
   "cell_type": "markdown",
   "id": "398bb74b",
   "metadata": {
    "tags": []
   },
   "source": [
    "## Inference Module import "
   ]
  },
  {
   "cell_type": "code",
   "execution_count": 29,
   "id": "c59ef230",
   "metadata": {},
   "outputs": [],
   "source": [
    "# import the required functions for inference from the custom modules \n",
    "from Functions import baysian_inference\n",
    "from Functions import candidate_poi_selection\n",
    "from Functions import linear_distance"
   ]
  },
  {
   "cell_type": "markdown",
   "id": "f60c148e",
   "metadata": {
    "tags": []
   },
   "source": [
    "## Processing "
   ]
  },
  {
   "cell_type": "code",
   "execution_count": 15,
   "id": "72181521",
   "metadata": {},
   "outputs": [],
   "source": [
    "taxitrips_to_baysean_inference  = taxitrips"
   ]
  },
  {
   "cell_type": "markdown",
   "id": "2684f40e",
   "metadata": {},
   "source": [
    "### Processing for Raw POIs"
   ]
  },
  {
   "cell_type": "code",
   "execution_count": 17,
   "id": "d2b4d5ad",
   "metadata": {},
   "outputs": [],
   "source": [
    "# array to collect the results \n",
    "trip_purposes = np.array([])\n",
    "\n",
    "for row in taxitrips_to_baysean_inference.itertuples():\n",
    "    \n",
    "    # candidate poi selection \n",
    "    candidate_pois = candidate_poi_selection.candidate_poi_selection(raw_placesgpd, row.dropoff_lat, row.dropoff_long, row.drop_time, time_df, walking_radius = 100)\n",
    "    \n",
    "    # baysean inference \n",
    "    Trip_purpose = baysian_inference.baysean_inference_ln(candidate_pois, row.dropoff_lat, row.dropoff_long, row.drop_time, huanggrid)\n",
    "    \n",
    "    # collect the results for an array \n",
    "    trip_purposes = np.append(trip_purposes, Trip_purpose)\n"
   ]
  },
  {
   "cell_type": "code",
   "execution_count": null,
   "id": "a68daabe",
   "metadata": {
    "tags": []
   },
   "outputs": [],
   "source": [
    "taxitrips_to_baysean_inference['Trip purpose'] = trip_purposes"
   ]
  },
  {
   "cell_type": "code",
   "execution_count": 167,
   "id": "5608ceba",
   "metadata": {},
   "outputs": [],
   "source": [
    "# saving the file to csv \n",
    "taxitrips_to_baysean_inference.to_csv(\"Raw_POI_results.csv\")"
   ]
  },
  {
   "cell_type": "code",
   "execution_count": 168,
   "id": "eb823437",
   "metadata": {},
   "outputs": [],
   "source": [
    "# saving the file to feather format \n",
    "taxitrips_to_baysean_inference.to_feather(\"Raw_POI_results.feather\")"
   ]
  },
  {
   "cell_type": "markdown",
   "id": "683be76f",
   "metadata": {},
   "source": [
    "### Processing for enhanced POIs."
   ]
  },
  {
   "cell_type": "code",
   "execution_count": 17,
   "id": "6c0def9a",
   "metadata": {},
   "outputs": [],
   "source": [
    "# array to collect the results \n",
    "trip_purposes = np.array([])\n",
    "\n",
    "for row in taxitrips_to_baysean_inference.itertuples():\n",
    "    \n",
    "    # candidate poi selection \n",
    "    candidate_pois = candidate_poi_selection.candidate_poi_selection(placesgpd, row.dropoff_lat, row.dropoff_long, row.drop_time, time_df, walking_radius = 100)\n",
    "    \n",
    "    # baysean inference \n",
    "    Trip_purpose = baysian_inference.baysean_inference_ln(candidate_pois, row.dropoff_lat, row.dropoff_long, row.drop_time, huanggrid)\n",
    "    \n",
    "    # collect the results for an array \n",
    "    trip_purposes = np.append(trip_purposes, Trip_purpose)\n"
   ]
  },
  {
   "cell_type": "code",
   "execution_count": null,
   "id": "a57b9e7c",
   "metadata": {
    "tags": []
   },
   "outputs": [],
   "source": [
    "taxitrips_to_baysean_inference['Trip purpose'] = trip_purposes"
   ]
  },
  {
   "cell_type": "code",
   "execution_count": 167,
   "id": "06da58e2",
   "metadata": {},
   "outputs": [],
   "source": [
    "# saving the file to csv \n",
    "taxitrips_to_baysean_inference.to_csv(\"Enhanced_POI_results.csv\")"
   ]
  },
  {
   "cell_type": "code",
   "execution_count": 168,
   "id": "db656606",
   "metadata": {},
   "outputs": [],
   "source": [
    "# saving the file to feather format \n",
    "taxitrips_to_baysean_inference.to_feather(\"Enhanced_POI_results.feather\")"
   ]
  },
  {
   "cell_type": "markdown",
   "id": "9e84b2a2",
   "metadata": {
    "tags": []
   },
   "source": [
    "## EDA"
   ]
  },
  {
   "cell_type": "code",
   "execution_count": 335,
   "id": "6f0b1c58",
   "metadata": {},
   "outputs": [],
   "source": [
    "enhanced_data = pd.read_feather(r\"C:\\Users\\HP\\Desktop\\Projects\\Trip purpose\\POI enhancement\\Purpose Inference\\Enhanced_results.feather\")\n",
    "raw_data =  pd.read_feather(r\"C:\\Users\\HP\\Desktop\\Projects\\Trip purpose\\POI enhancement\\Purpose Inference\\Raw_POI_results.feather\")"
   ]
  },
  {
   "cell_type": "code",
   "execution_count": 188,
   "id": "ab5f2540",
   "metadata": {},
   "outputs": [
    {
     "data": {
      "text/html": [
       "<div>\n",
       "<style scoped>\n",
       "    .dataframe tbody tr th:only-of-type {\n",
       "        vertical-align: middle;\n",
       "    }\n",
       "\n",
       "    .dataframe tbody tr th {\n",
       "        vertical-align: top;\n",
       "    }\n",
       "\n",
       "    .dataframe thead th {\n",
       "        text-align: right;\n",
       "    }\n",
       "</style>\n",
       "<table border=\"1\" class=\"dataframe\">\n",
       "  <thead>\n",
       "    <tr style=\"text-align: right;\">\n",
       "      <th></th>\n",
       "      <th>index</th>\n",
       "      <th>Trip purpose</th>\n",
       "    </tr>\n",
       "  </thead>\n",
       "  <tbody>\n",
       "    <tr>\n",
       "      <th>0</th>\n",
       "      <td>shopping</td>\n",
       "      <td>33087</td>\n",
       "    </tr>\n",
       "    <tr>\n",
       "      <th>1</th>\n",
       "      <td>personal</td>\n",
       "      <td>26971</td>\n",
       "    </tr>\n",
       "    <tr>\n",
       "      <th>2</th>\n",
       "      <td>dining</td>\n",
       "      <td>13285</td>\n",
       "    </tr>\n",
       "    <tr>\n",
       "      <th>3</th>\n",
       "      <td>medical</td>\n",
       "      <td>11665</td>\n",
       "    </tr>\n",
       "    <tr>\n",
       "      <th>4</th>\n",
       "      <td>education</td>\n",
       "      <td>7102</td>\n",
       "    </tr>\n",
       "    <tr>\n",
       "      <th>5</th>\n",
       "      <td>home</td>\n",
       "      <td>5571</td>\n",
       "    </tr>\n",
       "    <tr>\n",
       "      <th>6</th>\n",
       "      <td>transit</td>\n",
       "      <td>4595</td>\n",
       "    </tr>\n",
       "    <tr>\n",
       "      <th>7</th>\n",
       "      <td>recreational</td>\n",
       "      <td>3428</td>\n",
       "    </tr>\n",
       "    <tr>\n",
       "      <th>8</th>\n",
       "      <td>NA</td>\n",
       "      <td>1219</td>\n",
       "    </tr>\n",
       "    <tr>\n",
       "      <th>9</th>\n",
       "      <td>multiple</td>\n",
       "      <td>694</td>\n",
       "    </tr>\n",
       "  </tbody>\n",
       "</table>\n",
       "</div>"
      ],
      "text/plain": [
       "          index  Trip purpose\n",
       "0      shopping         33087\n",
       "1      personal         26971\n",
       "2        dining         13285\n",
       "3       medical         11665\n",
       "4     education          7102\n",
       "5          home          5571\n",
       "6       transit          4595\n",
       "7  recreational          3428\n",
       "8            NA          1219\n",
       "9      multiple           694"
      ]
     },
     "execution_count": 188,
     "metadata": {},
     "output_type": "execute_result"
    }
   ],
   "source": [
    "enhanced_data_value_counts = enhanced_data['Trip purpose'].value_counts().reset_index()\n",
    "enhanced_data_value_counts"
   ]
  },
  {
   "cell_type": "code",
   "execution_count": 187,
   "id": "c54b5511",
   "metadata": {},
   "outputs": [
    {
     "data": {
      "text/html": [
       "<div>\n",
       "<style scoped>\n",
       "    .dataframe tbody tr th:only-of-type {\n",
       "        vertical-align: middle;\n",
       "    }\n",
       "\n",
       "    .dataframe tbody tr th {\n",
       "        vertical-align: top;\n",
       "    }\n",
       "\n",
       "    .dataframe thead th {\n",
       "        text-align: right;\n",
       "    }\n",
       "</style>\n",
       "<table border=\"1\" class=\"dataframe\">\n",
       "  <thead>\n",
       "    <tr style=\"text-align: right;\">\n",
       "      <th></th>\n",
       "      <th>index</th>\n",
       "      <th>Trip purpose</th>\n",
       "    </tr>\n",
       "  </thead>\n",
       "  <tbody>\n",
       "    <tr>\n",
       "      <th>0</th>\n",
       "      <td>personal</td>\n",
       "      <td>29674</td>\n",
       "    </tr>\n",
       "    <tr>\n",
       "      <th>1</th>\n",
       "      <td>shopping</td>\n",
       "      <td>28383</td>\n",
       "    </tr>\n",
       "    <tr>\n",
       "      <th>2</th>\n",
       "      <td>dining</td>\n",
       "      <td>17343</td>\n",
       "    </tr>\n",
       "    <tr>\n",
       "      <th>3</th>\n",
       "      <td>medical</td>\n",
       "      <td>11238</td>\n",
       "    </tr>\n",
       "    <tr>\n",
       "      <th>4</th>\n",
       "      <td>home</td>\n",
       "      <td>6902</td>\n",
       "    </tr>\n",
       "    <tr>\n",
       "      <th>5</th>\n",
       "      <td>education</td>\n",
       "      <td>6196</td>\n",
       "    </tr>\n",
       "    <tr>\n",
       "      <th>6</th>\n",
       "      <td>transit</td>\n",
       "      <td>4007</td>\n",
       "    </tr>\n",
       "    <tr>\n",
       "      <th>7</th>\n",
       "      <td>NA</td>\n",
       "      <td>2013</td>\n",
       "    </tr>\n",
       "    <tr>\n",
       "      <th>8</th>\n",
       "      <td>recreational</td>\n",
       "      <td>1493</td>\n",
       "    </tr>\n",
       "    <tr>\n",
       "      <th>9</th>\n",
       "      <td>multiple</td>\n",
       "      <td>368</td>\n",
       "    </tr>\n",
       "  </tbody>\n",
       "</table>\n",
       "</div>"
      ],
      "text/plain": [
       "          index  Trip purpose\n",
       "0      personal         29674\n",
       "1      shopping         28383\n",
       "2        dining         17343\n",
       "3       medical         11238\n",
       "4          home          6902\n",
       "5     education          6196\n",
       "6       transit          4007\n",
       "7            NA          2013\n",
       "8  recreational          1493\n",
       "9      multiple           368"
      ]
     },
     "execution_count": 187,
     "metadata": {},
     "output_type": "execute_result"
    }
   ],
   "source": [
    "raw_data_value_counts = raw_data['Trip purpose'].value_counts().reset_index()\n",
    "raw_data_value_counts"
   ]
  },
  {
   "cell_type": "code",
   "execution_count": 336,
   "id": "ac9e40f1",
   "metadata": {},
   "outputs": [],
   "source": [
    "enhanced_data['Day'] = enhanced_data['drop_time'].dt.day_name()\n",
    "raw_data['Day'] = raw_data['drop_time'].dt.day_name()"
   ]
  },
  {
   "cell_type": "code",
   "execution_count": 340,
   "id": "6db4b9e4",
   "metadata": {},
   "outputs": [
    {
     "data": {
      "text/plain": [
       "personal        26749\n",
       "shopping        25463\n",
       "dining          15615\n",
       "NA              12553\n",
       "medical         10129\n",
       "home             6229\n",
       "education        5586\n",
       "transit          3636\n",
       "recreational     1329\n",
       "multiple          328\n",
       "Name: Trip purpose, dtype: int64"
      ]
     },
     "execution_count": 340,
     "metadata": {},
     "output_type": "execute_result"
    }
   ],
   "source": [
    "raw_data['Trip purpose'].value_counts()"
   ]
  },
  {
   "cell_type": "markdown",
   "id": "fd1fc2e4",
   "metadata": {},
   "source": [
    "### Results for enhanced POI data "
   ]
  },
  {
   "cell_type": "code",
   "execution_count": null,
   "id": "24db056a",
   "metadata": {
    "tags": []
   },
   "outputs": [],
   "source": [
    "# stacked bar chart \n",
    "\n",
    "x_values = ['Monday','Tuesday','Wednesday','Thursday','Friday','Saturday','Sunday']\n",
    "width = 0.35       # the width of the bars: can also be len(x) sequence\n",
    "\n",
    "fig, ax = plt.subplots()\n",
    "\n",
    "purpose_groups =  enhanced_data.groupby('Trip purpose')\n",
    "purposes = enhanced_data['Trip purpose'].unique()\n",
    "\n",
    "y_values_dict = {}\n",
    "\n",
    "for purpose in purposes:\n",
    "    \n",
    "    purpose_df = purpose_groups.get_group(purpose).groupby('Day').size().reset_index().set_index('Day')\n",
    "    y_values = [purpose_df.loc['Monday'].values[0], purpose_df.loc['Tuesday'].values[0], purpose_df.loc['Wednesday'].values[0], purpose_df.loc['Thursday'].values[0], purpose_df.loc['Friday'].values[0], purpose_df.loc['Saturday'].values[0], purpose_df.loc['Sunday'].values[0]]\n",
    "    y_values_dict[purpose] = y_values\n",
    "    \n",
    "# convert the dictionary keys to variables \n",
    "locals().update(y_values_dict)\n",
    "    \n",
    "# for purpose in purposes: \n",
    "bottom_raw = np.array([0,0,0,0,0,0,0])\n",
    "\n",
    "for key in y_values_dict:\n",
    "    \n",
    "    ax.bar(x_values , y_values_dict[key], width, label = key, bottom = bottom_raw)\n",
    "    \n",
    "    bottom_raw = bottom_raw + np.array(y_values_dict[key])\n",
    "\n",
    "ax.set_ylabel('Trip Count')\n",
    "ax.legend(loc=0, bbox_to_anchor=(1, 1))\n",
    "ax.set_xticklabels(x_values, rotation = 20)\n",
    "\n",
    "plt.savefig(r\"C:\\Users\\HP\\Desktop\\Projects\\Trip purpose\\POI enhancement\\Purpose Inference\\enhanced_results.jpg\", dpi = 300, bbox_inches = 'tight')"
   ]
  },
  {
   "cell_type": "markdown",
   "id": "c8be56b6",
   "metadata": {
    "tags": []
   },
   "source": [
    "### Results for original POI data"
   ]
  },
  {
   "cell_type": "code",
   "execution_count": null,
   "id": "58533eb2",
   "metadata": {},
   "outputs": [],
   "source": [
    "# stacked bar chart \n",
    "\n",
    "x_values = ['Monday','Tuesday','Wednesday','Thursday','Friday','Saturday','Sunday']\n",
    "width = 0.35       # the width of the bars: can also be len(x) sequence\n",
    "\n",
    "fig, ax = plt.subplots()\n",
    "\n",
    "purpose_groups =  raw_data.groupby('Trip purpose')\n",
    "purposes = enhanced_data['Trip purpose'].unique()\n",
    "\n",
    "y_values_dict = {}\n",
    "\n",
    "for purpose in purposes:\n",
    "    \n",
    "    purpose_df = purpose_groups.get_group(purpose).groupby('Day').size().reset_index().set_index('Day')\n",
    "    y_values = [purpose_df.loc['Monday'].values[0], purpose_df.loc['Tuesday'].values[0], purpose_df.loc['Wednesday'].values[0], purpose_df.loc['Thursday'].values[0], purpose_df.loc['Friday'].values[0], purpose_df.loc['Saturday'].values[0], purpose_df.loc['Sunday'].values[0]]\n",
    "    y_values_dict[purpose] = y_values\n",
    "    \n",
    "# convert the dictionary keys to variables \n",
    "locals().update(y_values_dict)\n",
    "    \n",
    "# for purpose in purposes: \n",
    "bottom_raw = np.array([0,0,0,0,0,0,0])\n",
    "\n",
    "for key in y_values_dict:\n",
    "    \n",
    "    ax.bar(x_values , y_values_dict[key], width, label = key, bottom = bottom_raw)\n",
    "    \n",
    "    bottom_raw = bottom_raw + np.array(y_values_dict[key])\n",
    "\n",
    "ax.set_ylabel('Trip Count')\n",
    "ax.legend(loc=0, bbox_to_anchor=(1, 1))\n",
    "ax.set_xticklabels(x_values, rotation = 20)\n",
    "\n",
    "plt.savefig(r\"C:\\Users\\HP\\Desktop\\Projects\\Trip purpose\\POI enhancement\\Purpose Inference\\raw_results.jpg\", dpi = 300, bbox_inches = 'tight')"
   ]
  },
  {
   "cell_type": "code",
   "execution_count": null,
   "id": "dfdea3f6",
   "metadata": {},
   "outputs": [],
   "source": []
  }
 ],
 "metadata": {
  "kernelspec": {
   "display_name": "Python 3",
   "language": "python",
   "name": "python3"
  },
  "language_info": {
   "codemirror_mode": {
    "name": "ipython",
    "version": 3
   },
   "file_extension": ".py",
   "mimetype": "text/x-python",
   "name": "python",
   "nbconvert_exporter": "python",
   "pygments_lexer": "ipython3",
   "version": "3.8.8"
  }
 },
 "nbformat": 4,
 "nbformat_minor": 5
}
