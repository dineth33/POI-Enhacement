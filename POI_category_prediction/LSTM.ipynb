{
 "cells": [
  {
   "cell_type": "markdown",
   "metadata": {
    "id": "XU2pVpwQeAwi"
   },
   "source": [
    "# LSTM text classifiation model\n",
    "<hr>\n",
    "\n",
    "We will build a text classification model using LSTM model on the TREC Dataset. "
   ]
  },
  {
   "cell_type": "code",
   "execution_count": 1,
   "metadata": {
    "colab": {
     "base_uri": "https://localhost:8080/"
    },
    "executionInfo": {
     "elapsed": 1592,
     "status": "ok",
     "timestamp": 1613881735526,
     "user": {
      "displayName": "Diardano Raihan",
      "photoUrl": "https://lh3.googleusercontent.com/a-/AOh14Gha7uiez3sFTDx1VaTwg2sO7Gvixa7HqFQO4k5j=s64",
      "userId": "15266981897338202066"
     },
     "user_tz": -480
    },
    "id": "co02_OrOeAxK",
    "outputId": "b73caa50-9bb1-4383-a5eb-9ce553cabb9d"
   },
   "outputs": [],
   "source": [
    "import tensorflow as tf\n",
    "import pandas as pd\n",
    "import numpy as np\n",
    "import matplotlib.pyplot as plt\n",
    "import seaborn as sns\n",
    "import re\n",
    "import nltk\n",
    "import random\n",
    "from nltk.corpus import stopwords, twitter_samples\n",
    "# from nltk.tokenize import TweetTokenizer\n",
    "from sklearn.model_selection import KFold\n",
    "from nltk.stem import PorterStemmer\n",
    "from string import punctuation\n",
    "from sklearn.preprocessing import OneHotEncoder\n",
    "from tensorflow.keras.preprocessing.text import Tokenizer\n",
    "import time\n",
    "\n",
    "%config IPCompleter.greedy=True\n",
    "%config IPCompleter.use_jedi=False\n",
    "# nltk.download('twitter_samples')"
   ]
  },
  {
   "cell_type": "code",
   "execution_count": 2,
   "metadata": {},
   "outputs": [
    {
     "name": "stdout",
     "output_type": "stream",
     "text": [
      "(25161, 8)\n"
     ]
    },
    {
     "data": {
      "text/html": [
       "<div>\n",
       "<style scoped>\n",
       "    .dataframe tbody tr th:only-of-type {\n",
       "        vertical-align: middle;\n",
       "    }\n",
       "\n",
       "    .dataframe tbody tr th {\n",
       "        vertical-align: top;\n",
       "    }\n",
       "\n",
       "    .dataframe thead th {\n",
       "        text-align: right;\n",
       "    }\n",
       "</style>\n",
       "<table border=\"1\" class=\"dataframe\">\n",
       "  <thead>\n",
       "    <tr style=\"text-align: right;\">\n",
       "      <th></th>\n",
       "      <th>name</th>\n",
       "      <th>clean_name</th>\n",
       "      <th>place_id</th>\n",
       "      <th>vicinity</th>\n",
       "      <th>no_of_ratings</th>\n",
       "      <th>avg_rating</th>\n",
       "      <th>type_1</th>\n",
       "      <th>purpose</th>\n",
       "    </tr>\n",
       "  </thead>\n",
       "  <tbody>\n",
       "    <tr>\n",
       "      <th>0</th>\n",
       "      <td>Colombo Swimming Club</td>\n",
       "      <td>colombo swimming club</td>\n",
       "      <td>ChIJETFLQ0FZ4joRwioIp4MnzHA</td>\n",
       "      <td>148 “Storm Lodge” Galle Road 3</td>\n",
       "      <td>1181.0</td>\n",
       "      <td>4.4</td>\n",
       "      <td>tourist_attraction</td>\n",
       "      <td>recreational</td>\n",
       "    </tr>\n",
       "    <tr>\n",
       "      <th>1</th>\n",
       "      <td>Storm lodge</td>\n",
       "      <td>storm lodge</td>\n",
       "      <td>ChIJGSU_sGtZ4joRiyZjgglUlPE</td>\n",
       "      <td>148 “Storm Lodge” Galle Road 3, Colombo 00300</td>\n",
       "      <td>NaN</td>\n",
       "      <td>NaN</td>\n",
       "      <td>lodging</td>\n",
       "      <td>personal</td>\n",
       "    </tr>\n",
       "    <tr>\n",
       "      <th>5</th>\n",
       "      <td>Ayura</td>\n",
       "      <td>ayura</td>\n",
       "      <td>ChIJQwy6bEFZ4joRU9m1ylxsbMs</td>\n",
       "      <td>142, Yathama Building, Galle Road, Colombo</td>\n",
       "      <td>16.0</td>\n",
       "      <td>4.5</td>\n",
       "      <td>jewelry_store</td>\n",
       "      <td>shopping</td>\n",
       "    </tr>\n",
       "    <tr>\n",
       "      <th>6</th>\n",
       "      <td>Baby Gallery Kurulapina</td>\n",
       "      <td>baby gallery kurulapina</td>\n",
       "      <td>ChIJR1dqFUFZ4joRsqACvaqRNws</td>\n",
       "      <td>WR8X+655, Colombo</td>\n",
       "      <td>NaN</td>\n",
       "      <td>NaN</td>\n",
       "      <td>clothing_store</td>\n",
       "      <td>shopping</td>\n",
       "    </tr>\n",
       "    <tr>\n",
       "      <th>7</th>\n",
       "      <td>Galle Face , Taj Hotel</td>\n",
       "      <td>galle face taj hotel</td>\n",
       "      <td>ChIJo015E0FZ4joRdGUr8gWxo4E</td>\n",
       "      <td>138 Colombo - Galle Main Road, Colombo</td>\n",
       "      <td>2.0</td>\n",
       "      <td>5.0</td>\n",
       "      <td>restaurant</td>\n",
       "      <td>dining</td>\n",
       "    </tr>\n",
       "    <tr>\n",
       "      <th>...</th>\n",
       "      <td>...</td>\n",
       "      <td>...</td>\n",
       "      <td>...</td>\n",
       "      <td>...</td>\n",
       "      <td>...</td>\n",
       "      <td>...</td>\n",
       "      <td>...</td>\n",
       "      <td>...</td>\n",
       "    </tr>\n",
       "    <tr>\n",
       "      <th>44395</th>\n",
       "      <td>Ichiro Motoring - Wijerama</td>\n",
       "      <td>ichiro motoring wijerama</td>\n",
       "      <td>ChIJk3QsSX1a4joRDO-HD30GZT8</td>\n",
       "      <td>High Level Road, Nugegoda</td>\n",
       "      <td>60.0</td>\n",
       "      <td>3.5</td>\n",
       "      <td>car_repair</td>\n",
       "      <td>personal</td>\n",
       "    </tr>\n",
       "    <tr>\n",
       "      <th>44396</th>\n",
       "      <td>Softlogic Glomark Supermarket</td>\n",
       "      <td>softlogic glomark supermarket</td>\n",
       "      <td>ChIJD436Ynxb4joR_tn_grvgpNs</td>\n",
       "      <td>Nugegoda Delkanda Apartment, High Level Road, ...</td>\n",
       "      <td>1278.0</td>\n",
       "      <td>4.2</td>\n",
       "      <td>grocery_or_supermarket</td>\n",
       "      <td>shopping</td>\n",
       "    </tr>\n",
       "    <tr>\n",
       "      <th>44397</th>\n",
       "      <td>Softlogic Glomark Supermarket</td>\n",
       "      <td>softlogic glomark supermarket</td>\n",
       "      <td>ChIJD436Ynxb4joR_tn_grvgpNs</td>\n",
       "      <td>Nugegoda Delkanda Apartment, High Level Road, ...</td>\n",
       "      <td>1278.0</td>\n",
       "      <td>4.2</td>\n",
       "      <td>grocery_or_supermarket</td>\n",
       "      <td>shopping</td>\n",
       "    </tr>\n",
       "    <tr>\n",
       "      <th>44398</th>\n",
       "      <td>Mirai Auto Land (Pvt) Ltd</td>\n",
       "      <td>mirai auto land pvt ltd</td>\n",
       "      <td>ChIJ6V8_E2da4joREMxUiWN0uVA</td>\n",
       "      <td>Delkanda, 383 High Level Rd, Avissawella Road,...</td>\n",
       "      <td>52.0</td>\n",
       "      <td>4.4</td>\n",
       "      <td>car_repair</td>\n",
       "      <td>personal</td>\n",
       "    </tr>\n",
       "    <tr>\n",
       "      <th>44399</th>\n",
       "      <td>Colombo Swimming Club</td>\n",
       "      <td>colombo swimming club</td>\n",
       "      <td>ChIJETFLQ0FZ4joRwioIp4MnzHA</td>\n",
       "      <td>148 “Storm Lodge” Galle Road 3</td>\n",
       "      <td>1181.0</td>\n",
       "      <td>4.4</td>\n",
       "      <td>tourist_attraction</td>\n",
       "      <td>recreational</td>\n",
       "    </tr>\n",
       "  </tbody>\n",
       "</table>\n",
       "<p>25161 rows × 8 columns</p>\n",
       "</div>"
      ],
      "text/plain": [
       "                                name                     clean_name  \\\n",
       "0              Colombo Swimming Club          colombo swimming club   \n",
       "1                        Storm lodge                    storm lodge   \n",
       "5                              Ayura                          ayura   \n",
       "6            Baby Gallery Kurulapina        baby gallery kurulapina   \n",
       "7             Galle Face , Taj Hotel           galle face taj hotel   \n",
       "...                              ...                            ...   \n",
       "44395     Ichiro Motoring - Wijerama       ichiro motoring wijerama   \n",
       "44396  Softlogic Glomark Supermarket  softlogic glomark supermarket   \n",
       "44397  Softlogic Glomark Supermarket  softlogic glomark supermarket   \n",
       "44398      Mirai Auto Land (Pvt) Ltd        mirai auto land pvt ltd   \n",
       "44399          Colombo Swimming Club          colombo swimming club   \n",
       "\n",
       "                          place_id  \\\n",
       "0      ChIJETFLQ0FZ4joRwioIp4MnzHA   \n",
       "1      ChIJGSU_sGtZ4joRiyZjgglUlPE   \n",
       "5      ChIJQwy6bEFZ4joRU9m1ylxsbMs   \n",
       "6      ChIJR1dqFUFZ4joRsqACvaqRNws   \n",
       "7      ChIJo015E0FZ4joRdGUr8gWxo4E   \n",
       "...                            ...   \n",
       "44395  ChIJk3QsSX1a4joRDO-HD30GZT8   \n",
       "44396  ChIJD436Ynxb4joR_tn_grvgpNs   \n",
       "44397  ChIJD436Ynxb4joR_tn_grvgpNs   \n",
       "44398  ChIJ6V8_E2da4joREMxUiWN0uVA   \n",
       "44399  ChIJETFLQ0FZ4joRwioIp4MnzHA   \n",
       "\n",
       "                                                vicinity  no_of_ratings  \\\n",
       "0                         148 “Storm Lodge” Galle Road 3         1181.0   \n",
       "1          148 “Storm Lodge” Galle Road 3, Colombo 00300            NaN   \n",
       "5             142, Yathama Building, Galle Road, Colombo           16.0   \n",
       "6                                      WR8X+655, Colombo            NaN   \n",
       "7                 138 Colombo - Galle Main Road, Colombo            2.0   \n",
       "...                                                  ...            ...   \n",
       "44395                          High Level Road, Nugegoda           60.0   \n",
       "44396  Nugegoda Delkanda Apartment, High Level Road, ...         1278.0   \n",
       "44397  Nugegoda Delkanda Apartment, High Level Road, ...         1278.0   \n",
       "44398  Delkanda, 383 High Level Rd, Avissawella Road,...           52.0   \n",
       "44399                     148 “Storm Lodge” Galle Road 3         1181.0   \n",
       "\n",
       "       avg_rating                  type_1       purpose  \n",
       "0             4.4      tourist_attraction  recreational  \n",
       "1             NaN                 lodging      personal  \n",
       "5             4.5           jewelry_store      shopping  \n",
       "6             NaN          clothing_store      shopping  \n",
       "7             5.0              restaurant        dining  \n",
       "...           ...                     ...           ...  \n",
       "44395         3.5              car_repair      personal  \n",
       "44396         4.2  grocery_or_supermarket      shopping  \n",
       "44397         4.2  grocery_or_supermarket      shopping  \n",
       "44398         4.4              car_repair      personal  \n",
       "44399         4.4      tourist_attraction  recreational  \n",
       "\n",
       "[25161 rows x 8 columns]"
      ]
     },
     "execution_count": 2,
     "metadata": {},
     "output_type": "execute_result"
    }
   ],
   "source": [
    "corpus = pd.read_csv(\"places_names_labelled.csv\", index_col = 0)\n",
    "# corpus.label = corpus.label.astype(int)\n",
    "print(corpus.shape)\n",
    "corpus"
   ]
  },
  {
   "cell_type": "code",
   "execution_count": 3,
   "metadata": {},
   "outputs": [],
   "source": [
    "corpus['purpose'].replace(corpus['purpose'].unique(), list(range(0, len(corpus['purpose'].unique()))), inplace=True)"
   ]
  },
  {
   "cell_type": "code",
   "execution_count": 4,
   "metadata": {},
   "outputs": [],
   "source": [
    "corpus = corpus[~(corpus['purpose']==6)]"
   ]
  },
  {
   "cell_type": "code",
   "execution_count": 5,
   "metadata": {},
   "outputs": [],
   "source": [
    "from sklearn.model_selection import train_test_split\n",
    "X_train,X_test,y_train,y_test = train_test_split(corpus,corpus['purpose'],test_size=0.2, random_state=32)"
   ]
  },
  {
   "cell_type": "code",
   "execution_count": 6,
   "metadata": {
    "executionInfo": {
     "elapsed": 1441,
     "status": "ok",
     "timestamp": 1613881803995,
     "user": {
      "displayName": "Diardano Raihan",
      "photoUrl": "https://lh3.googleusercontent.com/a-/AOh14Gha7uiez3sFTDx1VaTwg2sO7Gvixa7HqFQO4k5j=s64",
      "userId": "15266981897338202066"
     },
     "user_tz": -480
    },
    "id": "8ozAFDk3eAxe"
   },
   "outputs": [],
   "source": [
    "# Define a function to compute the max length of sequence\n",
    "def max_length(sequences):\n",
    "    '''\n",
    "    input:\n",
    "        sequences: a 2D list of integer sequences\n",
    "    output:\n",
    "        max_length: the max length of the sequences\n",
    "    '''\n",
    "    max_length = 0\n",
    "    for i, seq in enumerate(sequences):\n",
    "        length = len(seq)\n",
    "        if max_length < length:\n",
    "            max_length = length\n",
    "    return max_length"
   ]
  },
  {
   "cell_type": "code",
   "execution_count": 11,
   "metadata": {
    "colab": {
     "base_uri": "https://localhost:8080/"
    },
    "executionInfo": {
     "elapsed": 1650,
     "status": "ok",
     "timestamp": 1613881808491,
     "user": {
      "displayName": "Diardano Raihan",
      "photoUrl": "https://lh3.googleusercontent.com/a-/AOh14Gha7uiez3sFTDx1VaTwg2sO7Gvixa7HqFQO4k5j=s64",
      "userId": "15266981897338202066"
     },
     "user_tz": -480
    },
    "id": "fWW5xE8peAxl",
    "outputId": "e29c9383-98b8-4e99-b2f3-85f7c62fbda1"
   },
   "outputs": [
    {
     "name": "stdout",
     "output_type": "stream",
     "text": [
      "Example of sentence:  kanthi akka pastry shop\n",
      "Into a sequence of int: [2841, 2056, 463, 12]\n",
      "Into a padded sequence: [2841 2056  463   12    0    0    0    0    0    0    0    0    0    0\n",
      "    0    0    0    0    0    0    0    0    0    0    0    0    0    0\n",
      "    0    0    0    0    0    0    0    0    0]\n"
     ]
    }
   ],
   "source": [
    "from tensorflow.keras.preprocessing.text import Tokenizer\n",
    "from tensorflow.keras.preprocessing.sequence import pad_sequences\n",
    "\n",
    "trunc_type='post'\n",
    "padding_type='post'\n",
    "oov_tok = \"<UNK>\"\n",
    "\n",
    "# Separate the sentences and the labels\n",
    "train_x = list(X_train.clean_name)\n",
    "train_y = np.array(X_train.purpose)\n",
    "test_x = list(X_test.clean_name)\n",
    "test_y = np.array(X_test.purpose)\n",
    "\n",
    "# Cleaning and Tokenization\n",
    "tokenizer = Tokenizer(oov_token=oov_tok)\n",
    "tokenizer.fit_on_texts(train_x)\n",
    "\n",
    "print(\"Example of sentence: \", train_x[4])\n",
    "\n",
    "# Turn the text into sequence\n",
    "training_sequences = tokenizer.texts_to_sequences(train_x)\n",
    "max_len = max_length(training_sequences)\n",
    "\n",
    "print('Into a sequence of int:', training_sequences[4])\n",
    "\n",
    "# Pad the sequence to have the same size\n",
    "training_padded = pad_sequences(training_sequences, maxlen=max_len, padding=padding_type, truncating=trunc_type)\n",
    "print('Into a padded sequence:', training_padded[4])"
   ]
  },
  {
   "cell_type": "code",
   "execution_count": 12,
   "metadata": {
    "colab": {
     "base_uri": "https://localhost:8080/"
    },
    "executionInfo": {
     "elapsed": 1586,
     "status": "ok",
     "timestamp": 1613881812377,
     "user": {
      "displayName": "Diardano Raihan",
      "photoUrl": "https://lh3.googleusercontent.com/a-/AOh14Gha7uiez3sFTDx1VaTwg2sO7Gvixa7HqFQO4k5j=s64",
      "userId": "15266981897338202066"
     },
     "user_tz": -480
    },
    "id": "pO2INZaHeAxm",
    "outputId": "09eb9a33-b69b-432e-c86a-5e63d59e022c"
   },
   "outputs": [
    {
     "name": "stdout",
     "output_type": "stream",
     "text": [
      "<UNK> 1\n",
      "ltd 2\n",
      "pvt 3\n",
      "lanka 4\n",
      "the 5\n",
      "sri 6\n",
      "colombo 7\n",
      "of 8\n",
      "and 9\n",
      "bank 10\n",
      "12898\n"
     ]
    }
   ],
   "source": [
    "# See the first 10 words in the vocabulary\n",
    "word_index = tokenizer.word_index\n",
    "for i, word in enumerate(word_index):\n",
    "    print(word, word_index.get(word))\n",
    "    if i==9:\n",
    "        break\n",
    "vocab_size = len(word_index)+1\n",
    "print(vocab_size)"
   ]
  },
  {
   "cell_type": "markdown",
   "metadata": {},
   "source": [
    "## LSTM Model"
   ]
  },
  {
   "cell_type": "code",
   "execution_count": 13,
   "metadata": {
    "executionInfo": {
     "elapsed": 889,
     "status": "ok",
     "timestamp": 1613883204563,
     "user": {
      "displayName": "Diardano Raihan",
      "photoUrl": "https://lh3.googleusercontent.com/a-/AOh14Gha7uiez3sFTDx1VaTwg2sO7Gvixa7HqFQO4k5j=s64",
      "userId": "15266981897338202066"
     },
     "user_tz": -480
    },
    "id": "LYbWCxixeAxx"
   },
   "outputs": [],
   "source": [
    "from tensorflow.keras import regularizers\n",
    "from tensorflow.keras.constraints import MaxNorm\n",
    "\n",
    "def define_model(input_dim = None, output_dim=300, max_length = None ):\n",
    "    \n",
    "    model = tf.keras.models.Sequential([\n",
    "        tf.keras.layers.Embedding(input_dim=input_dim, \n",
    "                                  mask_zero= True,\n",
    "                                  output_dim=output_dim, \n",
    "                                  input_length=max_length, \n",
    "                                  input_shape=(max_length, )),\n",
    "        \n",
    "        tf.keras.layers.Bidirectional(tf.keras.layers.LSTM(64, return_sequences=True)),\n",
    "        tf.keras.layers.Bidirectional(tf.keras.layers.LSTM(64, return_sequences=False)),\n",
    "#         tf.keras.layers.Dense(64, activation='relu'),\n",
    "        tf.keras.layers.Dropout(0.5),\n",
    "        tf.keras.layers.Dense(units=8, activation='softmax')\n",
    "    ])\n",
    "    \n",
    "    model.compile( loss = 'sparse_categorical_crossentropy', optimizer = 'adam', metrics = ['accuracy'])\n",
    "#     model.summary()\n",
    "    return model"
   ]
  },
  {
   "cell_type": "code",
   "execution_count": 14,
   "metadata": {
    "colab": {
     "base_uri": "https://localhost:8080/"
    },
    "executionInfo": {
     "elapsed": 856,
     "status": "ok",
     "timestamp": 1613883207761,
     "user": {
      "displayName": "Diardano Raihan",
      "photoUrl": "https://lh3.googleusercontent.com/a-/AOh14Gha7uiez3sFTDx1VaTwg2sO7Gvixa7HqFQO4k5j=s64",
      "userId": "15266981897338202066"
     },
     "user_tz": -480
    },
    "id": "aOwVZzKkeAxy",
    "outputId": "a921d83c-3d4a-4a0a-f963-06ae5c9e7472"
   },
   "outputs": [
    {
     "name": "stdout",
     "output_type": "stream",
     "text": [
      "Model: \"sequential\"\n",
      "_________________________________________________________________\n",
      "Layer (type)                 Output Shape              Param #   \n",
      "=================================================================\n",
      "embedding (Embedding)        (None, 100, 300)          300000    \n",
      "_________________________________________________________________\n",
      "bidirectional (Bidirectional (None, 100, 128)          186880    \n",
      "_________________________________________________________________\n",
      "bidirectional_1 (Bidirection (None, 128)               98816     \n",
      "_________________________________________________________________\n",
      "dropout (Dropout)            (None, 128)               0         \n",
      "_________________________________________________________________\n",
      "dense (Dense)                (None, 8)                 1032      \n",
      "=================================================================\n",
      "Total params: 586,728\n",
      "Trainable params: 586,728\n",
      "Non-trainable params: 0\n",
      "_________________________________________________________________\n"
     ]
    }
   ],
   "source": [
    "model_0 = define_model( input_dim=1000, max_length=100)\n",
    "model_0.summary()"
   ]
  },
  {
   "cell_type": "code",
   "execution_count": 15,
   "metadata": {
    "executionInfo": {
     "elapsed": 1670,
     "status": "ok",
     "timestamp": 1613883808199,
     "user": {
      "displayName": "Diardano Raihan",
      "photoUrl": "https://lh3.googleusercontent.com/a-/AOh14Gha7uiez3sFTDx1VaTwg2sO7Gvixa7HqFQO4k5j=s64",
      "userId": "15266981897338202066"
     },
     "user_tz": -480
    },
    "id": "n9AjiIuBeAxz"
   },
   "outputs": [],
   "source": [
    "class myCallback(tf.keras.callbacks.Callback):\n",
    "    # Overide the method on_epoch_end() for our benefit\n",
    "    def on_epoch_end(self, epoch, logs={}):\n",
    "        if (logs.get('accuracy') > 0.93):\n",
    "            print(\"\\nReached 93% accuracy so cancelling training!\")\n",
    "            self.model.stop_training=True\n",
    "\n",
    "\n",
    "callbacks = tf.keras.callbacks.EarlyStopping(monitor='val_accuracy', min_delta=0, \n",
    "                                             patience=20, verbose=2, \n",
    "                                             mode='auto', restore_best_weights=True)\n",
    "# callbacks = myCallback()"
   ]
  },
  {
   "cell_type": "markdown",
   "metadata": {
    "id": "ZKzlhfLjljQR"
   },
   "source": [
    "## Train and Test the Model"
   ]
  },
  {
   "cell_type": "code",
   "execution_count": 16,
   "metadata": {
    "colab": {
     "base_uri": "https://localhost:8080/",
     "height": 1000
    },
    "executionInfo": {
     "elapsed": 82232,
     "status": "error",
     "timestamp": 1613883893355,
     "user": {
      "displayName": "Diardano Raihan",
      "photoUrl": "https://lh3.googleusercontent.com/a-/AOh14Gha7uiez3sFTDx1VaTwg2sO7Gvixa7HqFQO4k5j=s64",
      "userId": "15266981897338202066"
     },
     "user_tz": -480
    },
    "id": "a5s8LOGseAxz",
    "outputId": "93a04a62-5f72-48f9-de12-7bc52a78913f",
    "scrolled": true
   },
   "outputs": [
    {
     "name": "stdout",
     "output_type": "stream",
     "text": [
      "Epoch 1/60\n",
      "385/385 [==============================] - 44s 114ms/step - loss: 1.0497 - accuracy: 0.6328 - val_loss: 0.7193 - val_accuracy: 0.7508\n",
      "Epoch 2/60\n",
      "385/385 [==============================] - 38s 98ms/step - loss: 0.4450 - accuracy: 0.8647 - val_loss: 0.7235 - val_accuracy: 0.7610\n",
      "Epoch 3/60\n",
      "385/385 [==============================] - 37s 97ms/step - loss: 0.2383 - accuracy: 0.9294 - val_loss: 0.8002 - val_accuracy: 0.7562\n",
      "Epoch 4/60\n",
      "385/385 [==============================] - 38s 100ms/step - loss: 0.1748 - accuracy: 0.9469 - val_loss: 0.8654 - val_accuracy: 0.7400\n",
      "Epoch 5/60\n",
      "385/385 [==============================] - 43s 111ms/step - loss: 0.1343 - accuracy: 0.9579 - val_loss: 0.9131 - val_accuracy: 0.7535\n",
      "Epoch 6/60\n",
      "385/385 [==============================] - 42s 110ms/step - loss: 0.1089 - accuracy: 0.9659 - val_loss: 0.9656 - val_accuracy: 0.7442\n",
      "Epoch 7/60\n",
      "385/385 [==============================] - 40s 104ms/step - loss: 0.0946 - accuracy: 0.9671 - val_loss: 1.0550 - val_accuracy: 0.7517\n",
      "Epoch 8/60\n",
      "385/385 [==============================] - 39s 100ms/step - loss: 0.0798 - accuracy: 0.9736 - val_loss: 1.0785 - val_accuracy: 0.7492\n",
      "Epoch 9/60\n",
      "385/385 [==============================] - 40s 103ms/step - loss: 0.0676 - accuracy: 0.9764 - val_loss: 1.1552 - val_accuracy: 0.7515\n",
      "Epoch 10/60\n",
      "385/385 [==============================] - 42s 108ms/step - loss: 0.0623 - accuracy: 0.9772 - val_loss: 1.2714 - val_accuracy: 0.7448\n",
      "Epoch 11/60\n",
      "385/385 [==============================] - 42s 109ms/step - loss: 0.0561 - accuracy: 0.9786 - val_loss: 1.3873 - val_accuracy: 0.7427\n",
      "Epoch 12/60\n",
      "385/385 [==============================] - 40s 105ms/step - loss: 0.0540 - accuracy: 0.9797 - val_loss: 1.3602 - val_accuracy: 0.7473\n",
      "Epoch 13/60\n",
      "385/385 [==============================] - 40s 105ms/step - loss: 0.0474 - accuracy: 0.9821 - val_loss: 1.4099 - val_accuracy: 0.7456\n",
      "Epoch 14/60\n",
      "385/385 [==============================] - 39s 102ms/step - loss: 0.0433 - accuracy: 0.9845 - val_loss: 1.5051 - val_accuracy: 0.7458\n",
      "Epoch 15/60\n",
      "385/385 [==============================] - 40s 103ms/step - loss: 0.0415 - accuracy: 0.9841 - val_loss: 1.5145 - val_accuracy: 0.7406\n",
      "Epoch 16/60\n",
      "385/385 [==============================] - 40s 103ms/step - loss: 0.0407 - accuracy: 0.9849 - val_loss: 1.5414 - val_accuracy: 0.7463\n",
      "Epoch 17/60\n",
      "385/385 [==============================] - 41s 106ms/step - loss: 0.0365 - accuracy: 0.9858 - val_loss: 1.5298 - val_accuracy: 0.7473\n",
      "Epoch 18/60\n",
      "385/385 [==============================] - 44s 115ms/step - loss: 0.0366 - accuracy: 0.9857 - val_loss: 1.5559 - val_accuracy: 0.7467\n",
      "Epoch 19/60\n",
      "385/385 [==============================] - 40s 104ms/step - loss: 0.0324 - accuracy: 0.9871 - val_loss: 1.6557 - val_accuracy: 0.7436\n",
      "Epoch 20/60\n",
      "385/385 [==============================] - 40s 103ms/step - loss: 0.0317 - accuracy: 0.9875 - val_loss: 1.7406 - val_accuracy: 0.7425\n",
      "Epoch 21/60\n",
      "385/385 [==============================] - 39s 101ms/step - loss: 0.0344 - accuracy: 0.9874 - val_loss: 1.6293 - val_accuracy: 0.7398\n",
      "Epoch 22/60\n",
      "385/385 [==============================] - ETA: 0s - loss: 0.0283 - accuracy: 0.9887Restoring model weights from the end of the best epoch.\n",
      "385/385 [==============================] - 39s 101ms/step - loss: 0.0283 - accuracy: 0.9887 - val_loss: 1.7555 - val_accuracy: 0.7421\n",
      "Epoch 00022: early stopping\n",
      "Test Accuracy: 76.10141038894653\n"
     ]
    }
   ],
   "source": [
    "# Parameter Initialization\n",
    "trunc_type='post'\n",
    "padding_type='post'\n",
    "oov_tok = \"<UNK>\"\n",
    "\n",
    "\n",
    "# # Separate the sentences and the labels\n",
    "# train_x = list(corpus[corpus.split=='train'].sentence)\n",
    "# train_y = np.array(corpus[corpus.split=='train'].label)\n",
    "# test_x = list(corpus[corpus.split=='test'].sentence)\n",
    "# test_y = np.array(corpus[corpus.split=='test'].label)\n",
    "\n",
    "\n",
    "# encode data using\n",
    "# Cleaning and Tokenization\n",
    "tokenizer = Tokenizer(oov_token=oov_tok)\n",
    "tokenizer.fit_on_texts(train_x)\n",
    "\n",
    "# Turn the text into sequence\n",
    "training_sequences = tokenizer.texts_to_sequences(train_x)\n",
    "test_sequences = tokenizer.texts_to_sequences(test_x)\n",
    "\n",
    "max_len = max_length(training_sequences)\n",
    "\n",
    "# Pad the sequence to have the same size\n",
    "Xtrain = pad_sequences(training_sequences, maxlen=max_len, padding=padding_type, truncating=trunc_type)\n",
    "Xtest = pad_sequences(test_sequences, maxlen=max_len, padding=padding_type, truncating=trunc_type)\n",
    "\n",
    "word_index = tokenizer.word_index\n",
    "vocab_size = len(word_index)+1\n",
    "\n",
    "# Define the input shape\n",
    "model = define_model(input_dim=vocab_size, max_length=max_len)\n",
    "\n",
    "# Train the model\n",
    "model.fit(Xtrain, train_y, batch_size=50, epochs=60, verbose=1, \n",
    "          callbacks=[callbacks], validation_data=(Xtest, test_y))\n",
    "\n",
    "# evaluate the model\n",
    "loss, acc = model.evaluate(Xtest, test_y, verbose=0)\n",
    "print('Test Accuracy: {}'.format(acc*100))\n"
   ]
  }
 ],
 "metadata": {
  "colab": {
   "collapsed_sections": [],
   "name": "CNN_TREC.ipynb",
   "provenance": [],
   "toc_visible": true
  },
  "kernelspec": {
   "display_name": "Python 3",
   "language": "python",
   "name": "python3"
  },
  "language_info": {
   "codemirror_mode": {
    "name": "ipython",
    "version": 3
   },
   "file_extension": ".py",
   "mimetype": "text/x-python",
   "name": "python",
   "nbconvert_exporter": "python",
   "pygments_lexer": "ipython3",
   "version": "3.8.8"
  }
 },
 "nbformat": 4,
 "nbformat_minor": 4
}
