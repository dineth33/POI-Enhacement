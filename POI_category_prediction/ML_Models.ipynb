{
 "cells": [
  {
   "cell_type": "markdown",
   "id": "3ad89bc2",
   "metadata": {},
   "source": [
    "## Predicting the POI category from the name of it "
   ]
  },
  {
   "cell_type": "code",
   "execution_count": 1,
   "id": "d83c5f61",
   "metadata": {},
   "outputs": [
    {
     "data": {
      "text/plain": [
       "'D:\\\\MSC\\\\Data'"
      ]
     },
     "execution_count": 1,
     "metadata": {},
     "output_type": "execute_result"
    }
   ],
   "source": [
    "import os \n",
    "os.chdir('D:\\MSC\\Data')\n",
    "os.getcwd()"
   ]
  },
  {
   "cell_type": "code",
   "execution_count": 2,
   "id": "ca4c0cd2",
   "metadata": {},
   "outputs": [],
   "source": [
    "import numpy as np \n",
    "import pandas as pd \n",
    "import re\n",
    "import matplotlib.pyplot as plt\n",
    "from nltk.tokenize import regexp_tokenize\n",
    "import re"
   ]
  },
  {
   "cell_type": "code",
   "execution_count": 3,
   "id": "2352e915",
   "metadata": {},
   "outputs": [],
   "source": [
    "places = pd.read_csv('places\\\\places for dss\\\\thi_jpura_dehi_cleaned_places.csv',index_col = 0)"
   ]
  },
  {
   "cell_type": "code",
   "execution_count": 4,
   "id": "5d069e3b",
   "metadata": {},
   "outputs": [
    {
     "data": {
      "text/plain": [
       "(29261, 12)"
      ]
     },
     "execution_count": 4,
     "metadata": {},
     "output_type": "execute_result"
    }
   ],
   "source": [
    "places.shape"
   ]
  },
  {
   "cell_type": "code",
   "execution_count": 5,
   "id": "3a8e41f2",
   "metadata": {},
   "outputs": [
    {
     "data": {
      "text/html": [
       "<div>\n",
       "<style scoped>\n",
       "    .dataframe tbody tr th:only-of-type {\n",
       "        vertical-align: middle;\n",
       "    }\n",
       "\n",
       "    .dataframe tbody tr th {\n",
       "        vertical-align: top;\n",
       "    }\n",
       "\n",
       "    .dataframe thead th {\n",
       "        text-align: right;\n",
       "    }\n",
       "</style>\n",
       "<table border=\"1\" class=\"dataframe\">\n",
       "  <thead>\n",
       "    <tr style=\"text-align: right;\">\n",
       "      <th></th>\n",
       "      <th>name</th>\n",
       "      <th>place_id</th>\n",
       "      <th>lat</th>\n",
       "      <th>lng</th>\n",
       "      <th>types</th>\n",
       "      <th>vicinity</th>\n",
       "      <th>no_of_ratings</th>\n",
       "      <th>avg_rating</th>\n",
       "      <th>geometry</th>\n",
       "      <th>type_1</th>\n",
       "      <th>dual_1</th>\n",
       "      <th>dual_2</th>\n",
       "    </tr>\n",
       "  </thead>\n",
       "  <tbody>\n",
       "    <tr>\n",
       "      <th>0</th>\n",
       "      <td>Khairiya Muslim Girl's Grand College</td>\n",
       "      <td>ChIJS6PgLw9Z4joRADXcRN0MYh0</td>\n",
       "      <td>6.929464</td>\n",
       "      <td>79.868975</td>\n",
       "      <td>['school', 'point_of_interest', 'establishment']</td>\n",
       "      <td>219 Sri Vajiragnana Mawatha, Colombo</td>\n",
       "      <td>27.0</td>\n",
       "      <td>4.4</td>\n",
       "      <td>POINT (79.8689747 6.929464200000002)</td>\n",
       "      <td>school</td>\n",
       "      <td>NaN</td>\n",
       "      <td>NaN</td>\n",
       "    </tr>\n",
       "    <tr>\n",
       "      <th>1</th>\n",
       "      <td>My abacus centre</td>\n",
       "      <td>ChIJsVF2JQ9Z4joRIe5Tj4_xfJs</td>\n",
       "      <td>6.929437</td>\n",
       "      <td>79.868935</td>\n",
       "      <td>['school', 'point_of_interest', 'establishment']</td>\n",
       "      <td>Sri Vajiragnana Mawatha, Colombo</td>\n",
       "      <td>NaN</td>\n",
       "      <td>NaN</td>\n",
       "      <td>POINT (79.8689347 6.929437099999999)</td>\n",
       "      <td>school</td>\n",
       "      <td>NaN</td>\n",
       "      <td>NaN</td>\n",
       "    </tr>\n",
       "    <tr>\n",
       "      <th>2</th>\n",
       "      <td>Sea and Air Shipping Colombo</td>\n",
       "      <td>ChIJf02bZ5pZ4joRFjvKh9SKx78</td>\n",
       "      <td>6.929457</td>\n",
       "      <td>79.868527</td>\n",
       "      <td>['point_of_interest', 'establishment']</td>\n",
       "      <td>D 1/3,, Sri Vagiraghana Mawatha I, Colombo 10</td>\n",
       "      <td>NaN</td>\n",
       "      <td>NaN</td>\n",
       "      <td>POINT (79.868527 6.929457)</td>\n",
       "      <td>establishment</td>\n",
       "      <td>NaN</td>\n",
       "      <td>NaN</td>\n",
       "    </tr>\n",
       "    <tr>\n",
       "      <th>4</th>\n",
       "      <td>Asian Pharmacy</td>\n",
       "      <td>ChIJTf5fsQhZ4joRRc4Z_cyWnFA</td>\n",
       "      <td>6.929506</td>\n",
       "      <td>79.869235</td>\n",
       "      <td>['pharmacy', 'health', 'point_of_interest', 's...</td>\n",
       "      <td>228 Sri Vajiragnana Mawatha, Colombo</td>\n",
       "      <td>NaN</td>\n",
       "      <td>NaN</td>\n",
       "      <td>POINT (79.86923519999999 6.929506300000001)</td>\n",
       "      <td>pharmacy</td>\n",
       "      <td>NaN</td>\n",
       "      <td>NaN</td>\n",
       "    </tr>\n",
       "    <tr>\n",
       "      <th>5</th>\n",
       "      <td>LAUGFS SuperMart</td>\n",
       "      <td>ChIJ4TBnybtZ4joRICKdUnmmLfw</td>\n",
       "      <td>6.929335</td>\n",
       "      <td>79.869333</td>\n",
       "      <td>['supermarket', 'grocery_or_supermarket', 'foo...</td>\n",
       "      <td>No.228 Sri Vajiragnana Mawatha, Colombo</td>\n",
       "      <td>2.0</td>\n",
       "      <td>5.0</td>\n",
       "      <td>POINT (79.8693329 6.929334599999998)</td>\n",
       "      <td>supermarket</td>\n",
       "      <td>NaN</td>\n",
       "      <td>NaN</td>\n",
       "    </tr>\n",
       "  </tbody>\n",
       "</table>\n",
       "</div>"
      ],
      "text/plain": [
       "                                   name                     place_id  \\\n",
       "0  Khairiya Muslim Girl's Grand College  ChIJS6PgLw9Z4joRADXcRN0MYh0   \n",
       "1                      My abacus centre  ChIJsVF2JQ9Z4joRIe5Tj4_xfJs   \n",
       "2          Sea and Air Shipping Colombo  ChIJf02bZ5pZ4joRFjvKh9SKx78   \n",
       "4                        Asian Pharmacy  ChIJTf5fsQhZ4joRRc4Z_cyWnFA   \n",
       "5                      LAUGFS SuperMart  ChIJ4TBnybtZ4joRICKdUnmmLfw   \n",
       "\n",
       "        lat        lng                                              types  \\\n",
       "0  6.929464  79.868975   ['school', 'point_of_interest', 'establishment']   \n",
       "1  6.929437  79.868935   ['school', 'point_of_interest', 'establishment']   \n",
       "2  6.929457  79.868527             ['point_of_interest', 'establishment']   \n",
       "4  6.929506  79.869235  ['pharmacy', 'health', 'point_of_interest', 's...   \n",
       "5  6.929335  79.869333  ['supermarket', 'grocery_or_supermarket', 'foo...   \n",
       "\n",
       "                                        vicinity  no_of_ratings  avg_rating  \\\n",
       "0           219 Sri Vajiragnana Mawatha, Colombo           27.0         4.4   \n",
       "1               Sri Vajiragnana Mawatha, Colombo            NaN         NaN   \n",
       "2  D 1/3,, Sri Vagiraghana Mawatha I, Colombo 10            NaN         NaN   \n",
       "4           228 Sri Vajiragnana Mawatha, Colombo            NaN         NaN   \n",
       "5        No.228 Sri Vajiragnana Mawatha, Colombo            2.0         5.0   \n",
       "\n",
       "                                      geometry         type_1 dual_1 dual_2  \n",
       "0         POINT (79.8689747 6.929464200000002)         school    NaN    NaN  \n",
       "1         POINT (79.8689347 6.929437099999999)         school    NaN    NaN  \n",
       "2                   POINT (79.868527 6.929457)  establishment    NaN    NaN  \n",
       "4  POINT (79.86923519999999 6.929506300000001)       pharmacy    NaN    NaN  \n",
       "5         POINT (79.8693329 6.929334599999998)    supermarket    NaN    NaN  "
      ]
     },
     "execution_count": 5,
     "metadata": {},
     "output_type": "execute_result"
    }
   ],
   "source": [
    "places.head()"
   ]
  },
  {
   "cell_type": "code",
   "execution_count": 5,
   "id": "5b336be6",
   "metadata": {},
   "outputs": [
    {
     "data": {
      "text/plain": [
       "Index(['name', 'place_id', 'lat', 'lng', 'types', 'vicinity', 'no_of_ratings',\n",
       "       'avg_rating', 'geometry', 'type_1', 'dual_1', 'dual_2'],\n",
       "      dtype='object')"
      ]
     },
     "execution_count": 5,
     "metadata": {},
     "output_type": "execute_result"
    }
   ],
   "source": [
    "places.columns"
   ]
  },
  {
   "cell_type": "markdown",
   "id": "d51f7c4c",
   "metadata": {},
   "source": [
    "<div class=\"alert alert-block alert-warning\">\n",
    "<b> Text Cleaning :</b> \n",
    "</div>"
   ]
  },
  {
   "cell_type": "code",
   "execution_count": 5,
   "id": "b7f9ab13",
   "metadata": {},
   "outputs": [],
   "source": [
    "def isEnglish(s):\n",
    "    try:\n",
    "        s.encode(encoding='utf-8').decode('ascii')\n",
    "    except UnicodeDecodeError:\n",
    "        return False\n",
    "    else:\n",
    "        return True"
   ]
  },
  {
   "cell_type": "code",
   "execution_count": 6,
   "id": "8b470eff",
   "metadata": {},
   "outputs": [],
   "source": [
    "## tokenize and lower the poi names\n",
    "def name_clean(name):\n",
    "    # Define a regex pattern to tokenize: pattern1\n",
    "    pattern1 = r\"\\w+\"\n",
    "    # Use the pattern to tokenize\n",
    "    words = regexp_tokenize(name, pattern1)\n",
    "#     words = re.findall('[A-Za-z]' , words)\n",
    "    l_words = [t.lower() for t in words if t.isalpha() and isEnglish(t) and len(t)>1]\n",
    "    length = len(l_words)\n",
    "    if length == 0: \n",
    "        l_words = ['NA']\n",
    "    return ' '.join(l_words)"
   ]
  },
  {
   "cell_type": "code",
   "execution_count": 7,
   "id": "6b57b5b3",
   "metadata": {},
   "outputs": [],
   "source": [
    "places['clean_name'] = places['name'].apply(name_clean)"
   ]
  },
  {
   "cell_type": "code",
   "execution_count": 9,
   "id": "fd89986c",
   "metadata": {
    "tags": []
   },
   "outputs": [],
   "source": [
    "# unreliable_names_indexes = []\n",
    "# for idx,row in places.iterrows():\n",
    "#     letters =  re.findall('[A-Za-z]' ,  row['name'])\n",
    "#     if len(letters)<3:\n",
    "#         unreliable_names_indexes.append(idx)\n",
    "# named_places = places.drop(unreliable_names_indexes)\n",
    "# named_places.shape"
   ]
  },
  {
   "cell_type": "code",
   "execution_count": 8,
   "id": "9cec6f37",
   "metadata": {},
   "outputs": [],
   "source": [
    "named_places = places[places['clean_name']!='NA'] ## remove the POIS without accceptable names "
   ]
  },
  {
   "cell_type": "code",
   "execution_count": 9,
   "id": "b7e566cd",
   "metadata": {},
   "outputs": [
    {
     "data": {
      "text/plain": [
       "(28949, 13)"
      ]
     },
     "execution_count": 9,
     "metadata": {},
     "output_type": "execute_result"
    }
   ],
   "source": [
    "named_places.shape"
   ]
  },
  {
   "cell_type": "code",
   "execution_count": 10,
   "id": "f5aa67b3",
   "metadata": {},
   "outputs": [
    {
     "data": {
      "text/plain": [
       "(28928, 13)"
      ]
     },
     "execution_count": 10,
     "metadata": {},
     "output_type": "execute_result"
    }
   ],
   "source": [
    "## remove the dual type of POIs\n",
    "named_places = named_places.drop(named_places[named_places['type_1']=='dual'].index)\n",
    "named_places.shape"
   ]
  },
  {
   "cell_type": "markdown",
   "id": "e7106a14",
   "metadata": {},
   "source": [
    "<div class=\"alert alert-block alert-warning\">\n",
    "<b> Add features for word count : do not use now for this analysis </b> \n",
    "</div>"
   ]
  },
  {
   "cell_type": "raw",
   "id": "3c843c8a",
   "metadata": {},
   "source": [
    "named_places['letter_length'] = named_places['clean_name'].apply(len)"
   ]
  },
  {
   "cell_type": "raw",
   "id": "fd1a3659",
   "metadata": {},
   "source": [
    "def word_count(word):\n",
    "    words = word.split()\n",
    "    return len(words)"
   ]
  },
  {
   "cell_type": "raw",
   "id": "4a4829a8",
   "metadata": {},
   "source": [
    "named_places['words_length'] = named_places['clean_name'].apply(word_count)"
   ]
  },
  {
   "cell_type": "markdown",
   "id": "aace402d",
   "metadata": {},
   "source": [
    "<div class=\"alert alert-block alert-warning\">\n",
    "<b> Category assignment  :</b> \n",
    "</div>"
   ]
  },
  {
   "cell_type": "code",
   "execution_count": 11,
   "id": "2d901d21",
   "metadata": {},
   "outputs": [],
   "source": [
    "categories = pd.read_csv('places\\categories\\categories_summary_of_places.csv',index_col=0)"
   ]
  },
  {
   "cell_type": "code",
   "execution_count": 12,
   "id": "4a8b695d",
   "metadata": {},
   "outputs": [],
   "source": [
    "## small function to remove the nan values in the above cateogry arrays\n",
    "def arraywithoutnan(nanarray):\n",
    "    newarray = []\n",
    "    for i in range(len(nanarray)):\n",
    "        if str(nanarray[i]) != 'nan':\n",
    "            newarray.append(nanarray[i])\n",
    "        if str(nanarray[i]) == 'nan':\n",
    "            break\n",
    "    return newarray "
   ]
  },
  {
   "cell_type": "code",
   "execution_count": 13,
   "id": "f731bcb2",
   "metadata": {},
   "outputs": [],
   "source": [
    "# create arrays for each category type removing the nan values \n",
    "shopping = arraywithoutnan(categories.loc['shopping ',:].values)\n",
    "education = arraywithoutnan(categories.loc['Education ',:].values)\n",
    "medical = arraywithoutnan(categories.loc['medical',:].values)\n",
    "recreational = arraywithoutnan(categories.loc['recreational ',:].values)\n",
    "personal = arraywithoutnan(categories.loc['personal ',:].values)\n",
    "transit = arraywithoutnan(categories.loc['transit ',:].values)\n",
    "dining = arraywithoutnan(categories.loc['dining ',:].values)\n",
    "home = arraywithoutnan(categories.loc['home ',:].values)"
   ]
  },
  {
   "cell_type": "code",
   "execution_count": 14,
   "id": "f4f7ce07",
   "metadata": {},
   "outputs": [],
   "source": [
    "categories_list = [shopping,education,medical,recreational,personal,transit,dining,home]"
   ]
  },
  {
   "cell_type": "code",
   "execution_count": 15,
   "id": "a25e8a4e",
   "metadata": {},
   "outputs": [],
   "source": [
    "## function to provide the category given the category type of a POI, \n",
    "def catassign(category_type):\n",
    "    if category_type == 'work':\n",
    "        categry = 'work'\n",
    "    elif category_type in shopping:\n",
    "        categry = 'shopping'\n",
    "    elif category_type in education: \n",
    "        categry = 'education'\n",
    "    elif category_type in medical: \n",
    "        categry = 'medical'\n",
    "    elif category_type in recreational:\n",
    "        categry = 'recreational'\n",
    "    elif category_type in personal:\n",
    "        categry = 'personal'\n",
    "    elif category_type in transit:\n",
    "        categry = 'transit'\n",
    "    elif category_type in dining: \n",
    "        categry = 'dining'\n",
    "    elif category_type in home: \n",
    "        categry = 'home'\n",
    "    else:\n",
    "        categry = 'unknown'\n",
    "    return categry "
   ]
  },
  {
   "cell_type": "code",
   "execution_count": 16,
   "id": "1030f3da",
   "metadata": {
    "tags": []
   },
   "outputs": [],
   "source": [
    "for idx,row in named_places.iterrows():\n",
    "     named_places.loc[idx,'purpose'] = catassign(row['type_1'])"
   ]
  },
  {
   "cell_type": "code",
   "execution_count": 17,
   "id": "76252bf9",
   "metadata": {},
   "outputs": [
    {
     "data": {
      "text/html": [
       "<div>\n",
       "<style scoped>\n",
       "    .dataframe tbody tr th:only-of-type {\n",
       "        vertical-align: middle;\n",
       "    }\n",
       "\n",
       "    .dataframe tbody tr th {\n",
       "        vertical-align: top;\n",
       "    }\n",
       "\n",
       "    .dataframe thead th {\n",
       "        text-align: right;\n",
       "    }\n",
       "</style>\n",
       "<table border=\"1\" class=\"dataframe\">\n",
       "  <thead>\n",
       "    <tr style=\"text-align: right;\">\n",
       "      <th></th>\n",
       "      <th>name</th>\n",
       "      <th>place_id</th>\n",
       "      <th>lat</th>\n",
       "      <th>lng</th>\n",
       "      <th>types</th>\n",
       "      <th>vicinity</th>\n",
       "      <th>no_of_ratings</th>\n",
       "      <th>avg_rating</th>\n",
       "      <th>geometry</th>\n",
       "      <th>type_1</th>\n",
       "      <th>dual_1</th>\n",
       "      <th>dual_2</th>\n",
       "      <th>clean_name</th>\n",
       "      <th>purpose</th>\n",
       "    </tr>\n",
       "  </thead>\n",
       "  <tbody>\n",
       "  </tbody>\n",
       "</table>\n",
       "</div>"
      ],
      "text/plain": [
       "Empty DataFrame\n",
       "Columns: [name, place_id, lat, lng, types, vicinity, no_of_ratings, avg_rating, geometry, type_1, dual_1, dual_2, clean_name, purpose]\n",
       "Index: []"
      ]
     },
     "execution_count": 17,
     "metadata": {},
     "output_type": "execute_result"
    }
   ],
   "source": [
    "named_places[(named_places['purpose'] == 'unknown') & (named_places['type_1'] != 'establishment')] ## this means alll the unkonwn catgories are relate to the establishment category type"
   ]
  },
  {
   "cell_type": "markdown",
   "id": "8a3b4d24",
   "metadata": {},
   "source": [
    "<div class=\"alert alert-block alert-warning\">\n",
    "<b> ML Model Creation  :</b> \n",
    "</div>"
   ]
  },
  {
   "cell_type": "code",
   "execution_count": 18,
   "id": "88b98c7b",
   "metadata": {},
   "outputs": [],
   "source": [
    "from sklearn.model_selection import train_test_split\n",
    "# from sklearn.model_selection import cross_val_score\n",
    "from sklearn.model_selection import GridSearchCV\n",
    "# from sklearn.neighbors import KNeighborsClassifier\n",
    "from sklearn.metrics import classification_report \n",
    "from sklearn.metrics import accuracy_score"
   ]
  },
  {
   "cell_type": "code",
   "execution_count": 19,
   "id": "452f51ff",
   "metadata": {},
   "outputs": [],
   "source": [
    "from sklearn.preprocessing import StandardScaler\n",
    "from sklearn.pipeline import Pipeline\n",
    "from sklearn.svm import SVC\n",
    "from sklearn.naive_bayes import MultinomialNB"
   ]
  },
  {
   "cell_type": "code",
   "execution_count": 20,
   "id": "71a05d5e",
   "metadata": {},
   "outputs": [],
   "source": [
    "from sklearn.feature_extraction.text import CountVectorizer,TfidfTransformer"
   ]
  },
  {
   "cell_type": "code",
   "execution_count": 21,
   "id": "9f1cd7c5",
   "metadata": {},
   "outputs": [],
   "source": [
    "## dimension reduction techniques \n",
    "from sklearn.decomposition import NMF\n",
    "from sklearn.decomposition import TruncatedSVD\n",
    "from sklearn.discriminant_analysis import LinearDiscriminantAnalysis\n",
    "from sklearn.decomposition import PCA, KernelPCA\n",
    "from sklearn.feature_selection import VarianceThreshold"
   ]
  },
  {
   "cell_type": "code",
   "execution_count": 22,
   "id": "2697f1eb",
   "metadata": {},
   "outputs": [],
   "source": [
    "places_data = named_places[named_places['purpose'] != 'unknown'] # extract the labeled dataset"
   ]
  },
  {
   "cell_type": "code",
   "execution_count": 23,
   "id": "7e92900c",
   "metadata": {},
   "outputs": [],
   "source": [
    "## select the categories to be predicted "
   ]
  },
  {
   "cell_type": "code",
   "execution_count": 24,
   "id": "a1fc2587",
   "metadata": {},
   "outputs": [
    {
     "data": {
      "text/plain": [
       "array(['education', 'medical', 'shopping', 'personal', 'dining',\n",
       "       'recreational', 'transit', 'home'], dtype=object)"
      ]
     },
     "execution_count": 24,
     "metadata": {},
     "output_type": "execute_result"
    }
   ],
   "source": [
    "places_data['purpose'].unique()"
   ]
  },
  {
   "cell_type": "code",
   "execution_count": 25,
   "id": "7e90fcfa",
   "metadata": {},
   "outputs": [
    {
     "data": {
      "text/plain": [
       "(15553, 14)"
      ]
     },
     "execution_count": 25,
     "metadata": {},
     "output_type": "execute_result"
    }
   ],
   "source": [
    "places_data.shape"
   ]
  },
  {
   "cell_type": "code",
   "execution_count": 27,
   "id": "4842f018",
   "metadata": {},
   "outputs": [
    {
     "data": {
      "text/plain": [
       "personal        5717\n",
       "shopping        4344\n",
       "dining          2396\n",
       "medical         1289\n",
       "education       1195\n",
       "transit          349\n",
       "recreational     252\n",
       "home              11\n",
       "Name: purpose, dtype: int64"
      ]
     },
     "execution_count": 27,
     "metadata": {},
     "output_type": "execute_result"
    }
   ],
   "source": [
    "places_data['purpose'].value_counts()"
   ]
  },
  {
   "cell_type": "code",
   "execution_count": 28,
   "id": "8a38ee6e",
   "metadata": {},
   "outputs": [
    {
     "data": {
      "text/plain": [
       "<AxesSubplot:>"
      ]
     },
     "execution_count": 28,
     "metadata": {},
     "output_type": "execute_result"
    },
    {
     "data": {
      "image/png": "[encoded data removed]",
      "text/plain": [
       "<Figure size 432x288 with 1 Axes>"
      ]
     },
     "metadata": {
      "needs_background": "light"
     },
     "output_type": "display_data"
    }
   ],
   "source": [
    "places_data['purpose'].value_counts().plot(kind='bar')"
   ]
  },
  {
   "cell_type": "code",
   "execution_count": 26,
   "id": "b9bf781a",
   "metadata": {},
   "outputs": [],
   "source": [
    "CategoriesToSelect = ['education','medical','shopping', 'personal', 'dining', 'transit'] # select the required categories for the ML Model \n",
    "places_data = places_data[places_data['purpose'].isin(CategoriesToSelect)]"
   ]
  },
  {
   "cell_type": "code",
   "execution_count": 27,
   "id": "dcdd8e3d",
   "metadata": {},
   "outputs": [
    {
     "data": {
      "text/plain": [
       "(15290, 14)"
      ]
     },
     "execution_count": 27,
     "metadata": {},
     "output_type": "execute_result"
    }
   ],
   "source": [
    "places_data.shape"
   ]
  },
  {
   "cell_type": "code",
   "execution_count": 28,
   "id": "f219c2f2",
   "metadata": {},
   "outputs": [],
   "source": [
    "places_data = places_data[['clean_name','purpose']]"
   ]
  },
  {
   "cell_type": "code",
   "execution_count": 31,
   "id": "fafb5dda",
   "metadata": {},
   "outputs": [
    {
     "data": {
      "text/plain": [
       "<AxesSubplot:>"
      ]
     },
     "execution_count": 31,
     "metadata": {},
     "output_type": "execute_result"
    },
    {
     "data": {
      "image/png": "[encoded data removed]",
      "text/plain": [
       "<Figure size 432x288 with 1 Axes>"
      ]
     },
     "metadata": {
      "needs_background": "light"
     },
     "output_type": "display_data"
    }
   ],
   "source": [
    "places_data['purpose'].value_counts().plot(kind='bar')"
   ]
  },
  {
   "cell_type": "code",
   "execution_count": 29,
   "id": "01557c6b",
   "metadata": {},
   "outputs": [],
   "source": [
    "places_data = places_data.reset_index(drop=True)"
   ]
  },
  {
   "cell_type": "code",
   "execution_count": 30,
   "id": "8a619424",
   "metadata": {},
   "outputs": [],
   "source": [
    "vectorizer =  CountVectorizer()\n",
    "\n",
    "bow_matrix = vectorizer.fit_transform(places_data['clean_name'])\n",
    "\n",
    "word_features = vectorizer.get_feature_names()"
   ]
  },
  {
   "cell_type": "code",
   "execution_count": 31,
   "id": "5d48dc88",
   "metadata": {},
   "outputs": [],
   "source": [
    "bow_table = pd.DataFrame(bow_matrix.toarray() , columns = word_features)"
   ]
  },
  {
   "cell_type": "code",
   "execution_count": 33,
   "id": "64c2da02",
   "metadata": {},
   "outputs": [
    {
     "data": {
      "text/plain": [
       "(15290, 11276)"
      ]
     },
     "execution_count": 33,
     "metadata": {},
     "output_type": "execute_result"
    }
   ],
   "source": [
    "bow_table.shape"
   ]
  },
  {
   "cell_type": "code",
   "execution_count": 86,
   "id": "2181e0be",
   "metadata": {},
   "outputs": [],
   "source": [
    "## trying different feature extraction techniques "
   ]
  },
  {
   "cell_type": "markdown",
   "id": "f3d091d1",
   "metadata": {},
   "source": [
    "tsvd = TruncatedSVD(n_components=10)\n",
    "reduced_features = tsvd.fit_transform(bow_matrix)"
   ]
  },
  {
   "cell_type": "markdown",
   "id": "f92225b3",
   "metadata": {},
   "source": [
    "pca = PCA(n_components=10, whiten=True)\n",
    "reduced_features = pca.fit_transform(bow_table)"
   ]
  },
  {
   "cell_type": "code",
   "execution_count": null,
   "id": "54517401",
   "metadata": {},
   "outputs": [],
   "source": [
    "kpca = KernelPCA(n_components=0.99, whiten=True)\n",
    "reducted_features = kpca.fit_transform(bow_table)"
   ]
  },
  {
   "cell_type": "markdown",
   "id": "9602a289",
   "metadata": {},
   "source": [
    "lda = LinearDiscriminantAnalysis(n_components=1)\n",
    "reducted_features = lda.fit(bow_table, places_data['purpose']).transform(bow_table)"
   ]
  },
  {
   "cell_type": "markdown",
   "id": "6dfb41ba",
   "metadata": {},
   "source": [
    "nmf = NMF(n_components=1000, random_state=1)\n",
    "reduced_features = nmf.fit_transform(bow_matrix)"
   ]
  },
  {
   "cell_type": "code",
   "execution_count": null,
   "id": "0054d490",
   "metadata": {},
   "outputs": [],
   "source": [
    "## trying different feature selection techniques"
   ]
  },
  {
   "cell_type": "markdown",
   "id": "42157f4e",
   "metadata": {},
   "source": [
    "thresholder = VarianceThreshold(threshold=(.75 * (1 - .75)))\n",
    "reduced_features = thresholder.fit_transform(bow_matrix)"
   ]
  },
  {
   "cell_type": "code",
   "execution_count": 74,
   "id": "20fe7513",
   "metadata": {},
   "outputs": [
    {
     "data": {
      "text/plain": [
       "<15290x11276 sparse matrix of type '<class 'numpy.int64'>'\n",
       "\twith 45532 stored elements in Compressed Sparse Row format>"
      ]
     },
     "execution_count": 74,
     "metadata": {},
     "output_type": "execute_result"
    }
   ],
   "source": [
    "reduced_features"
   ]
  },
  {
   "cell_type": "code",
   "execution_count": 61,
   "id": "8816ca82",
   "metadata": {},
   "outputs": [],
   "source": [
    "reduced_names = pd.DataFrame(reduced_features, columns = np.arange(1,11,1))"
   ]
  },
  {
   "cell_type": "code",
   "execution_count": 62,
   "id": "f1364616",
   "metadata": {},
   "outputs": [
    {
     "data": {
      "text/plain": [
       "(15290, 10)"
      ]
     },
     "execution_count": 62,
     "metadata": {},
     "output_type": "execute_result"
    }
   ],
   "source": [
    "reduced_names.shape"
   ]
  },
  {
   "cell_type": "code",
   "execution_count": 34,
   "id": "e8da4b0c",
   "metadata": {},
   "outputs": [],
   "source": [
    "bow_table.drop([col for col, val in bow_table.sum().iteritems() if val == 1], axis=1, inplace=True)"
   ]
  },
  {
   "cell_type": "code",
   "execution_count": 65,
   "id": "16b3147e",
   "metadata": {},
   "outputs": [
    {
     "data": {
      "text/html": [
       "<div>\n",
       "<style scoped>\n",
       "    .dataframe tbody tr th:only-of-type {\n",
       "        vertical-align: middle;\n",
       "    }\n",
       "\n",
       "    .dataframe tbody tr th {\n",
       "        vertical-align: top;\n",
       "    }\n",
       "\n",
       "    .dataframe thead th {\n",
       "        text-align: right;\n",
       "    }\n",
       "</style>\n",
       "<table border=\"1\" class=\"dataframe\">\n",
       "  <thead>\n",
       "    <tr style=\"text-align: right;\">\n",
       "      <th></th>\n",
       "      <th>aa</th>\n",
       "      <th>aaa</th>\n",
       "      <th>aadare</th>\n",
       "      <th>aalindaya</th>\n",
       "      <th>aaliyah</th>\n",
       "      <th>aari</th>\n",
       "      <th>aashkii</th>\n",
       "      <th>aaysha</th>\n",
       "      <th>abacus</th>\n",
       "      <th>abans</th>\n",
       "      <th>...</th>\n",
       "      <th>zen</th>\n",
       "      <th>zenith</th>\n",
       "      <th>zero</th>\n",
       "      <th>zion</th>\n",
       "      <th>zodiac</th>\n",
       "      <th>zone</th>\n",
       "      <th>zoo</th>\n",
       "      <th>zoysa</th>\n",
       "      <th>zuls</th>\n",
       "      <th>zumba</th>\n",
       "    </tr>\n",
       "  </thead>\n",
       "  <tbody>\n",
       "    <tr>\n",
       "      <th>0</th>\n",
       "      <td>0</td>\n",
       "      <td>0</td>\n",
       "      <td>0</td>\n",
       "      <td>0</td>\n",
       "      <td>0</td>\n",
       "      <td>0</td>\n",
       "      <td>0</td>\n",
       "      <td>0</td>\n",
       "      <td>0</td>\n",
       "      <td>0</td>\n",
       "      <td>...</td>\n",
       "      <td>0</td>\n",
       "      <td>0</td>\n",
       "      <td>0</td>\n",
       "      <td>0</td>\n",
       "      <td>0</td>\n",
       "      <td>0</td>\n",
       "      <td>0</td>\n",
       "      <td>0</td>\n",
       "      <td>0</td>\n",
       "      <td>0</td>\n",
       "    </tr>\n",
       "    <tr>\n",
       "      <th>1</th>\n",
       "      <td>0</td>\n",
       "      <td>0</td>\n",
       "      <td>0</td>\n",
       "      <td>0</td>\n",
       "      <td>0</td>\n",
       "      <td>0</td>\n",
       "      <td>0</td>\n",
       "      <td>0</td>\n",
       "      <td>1</td>\n",
       "      <td>0</td>\n",
       "      <td>...</td>\n",
       "      <td>0</td>\n",
       "      <td>0</td>\n",
       "      <td>0</td>\n",
       "      <td>0</td>\n",
       "      <td>0</td>\n",
       "      <td>0</td>\n",
       "      <td>0</td>\n",
       "      <td>0</td>\n",
       "      <td>0</td>\n",
       "      <td>0</td>\n",
       "    </tr>\n",
       "    <tr>\n",
       "      <th>2</th>\n",
       "      <td>0</td>\n",
       "      <td>0</td>\n",
       "      <td>0</td>\n",
       "      <td>0</td>\n",
       "      <td>0</td>\n",
       "      <td>0</td>\n",
       "      <td>0</td>\n",
       "      <td>0</td>\n",
       "      <td>0</td>\n",
       "      <td>0</td>\n",
       "      <td>...</td>\n",
       "      <td>0</td>\n",
       "      <td>0</td>\n",
       "      <td>0</td>\n",
       "      <td>0</td>\n",
       "      <td>0</td>\n",
       "      <td>0</td>\n",
       "      <td>0</td>\n",
       "      <td>0</td>\n",
       "      <td>0</td>\n",
       "      <td>0</td>\n",
       "    </tr>\n",
       "    <tr>\n",
       "      <th>3</th>\n",
       "      <td>0</td>\n",
       "      <td>0</td>\n",
       "      <td>0</td>\n",
       "      <td>0</td>\n",
       "      <td>0</td>\n",
       "      <td>0</td>\n",
       "      <td>0</td>\n",
       "      <td>0</td>\n",
       "      <td>0</td>\n",
       "      <td>0</td>\n",
       "      <td>...</td>\n",
       "      <td>0</td>\n",
       "      <td>0</td>\n",
       "      <td>0</td>\n",
       "      <td>0</td>\n",
       "      <td>0</td>\n",
       "      <td>0</td>\n",
       "      <td>0</td>\n",
       "      <td>0</td>\n",
       "      <td>0</td>\n",
       "      <td>0</td>\n",
       "    </tr>\n",
       "    <tr>\n",
       "      <th>4</th>\n",
       "      <td>0</td>\n",
       "      <td>0</td>\n",
       "      <td>0</td>\n",
       "      <td>0</td>\n",
       "      <td>0</td>\n",
       "      <td>0</td>\n",
       "      <td>0</td>\n",
       "      <td>0</td>\n",
       "      <td>0</td>\n",
       "      <td>0</td>\n",
       "      <td>...</td>\n",
       "      <td>0</td>\n",
       "      <td>0</td>\n",
       "      <td>0</td>\n",
       "      <td>0</td>\n",
       "      <td>0</td>\n",
       "      <td>0</td>\n",
       "      <td>0</td>\n",
       "      <td>0</td>\n",
       "      <td>0</td>\n",
       "      <td>0</td>\n",
       "    </tr>\n",
       "    <tr>\n",
       "      <th>...</th>\n",
       "      <td>...</td>\n",
       "      <td>...</td>\n",
       "      <td>...</td>\n",
       "      <td>...</td>\n",
       "      <td>...</td>\n",
       "      <td>...</td>\n",
       "      <td>...</td>\n",
       "      <td>...</td>\n",
       "      <td>...</td>\n",
       "      <td>...</td>\n",
       "      <td>...</td>\n",
       "      <td>...</td>\n",
       "      <td>...</td>\n",
       "      <td>...</td>\n",
       "      <td>...</td>\n",
       "      <td>...</td>\n",
       "      <td>...</td>\n",
       "      <td>...</td>\n",
       "      <td>...</td>\n",
       "      <td>...</td>\n",
       "      <td>...</td>\n",
       "    </tr>\n",
       "    <tr>\n",
       "      <th>15285</th>\n",
       "      <td>0</td>\n",
       "      <td>0</td>\n",
       "      <td>0</td>\n",
       "      <td>0</td>\n",
       "      <td>0</td>\n",
       "      <td>0</td>\n",
       "      <td>0</td>\n",
       "      <td>0</td>\n",
       "      <td>0</td>\n",
       "      <td>0</td>\n",
       "      <td>...</td>\n",
       "      <td>0</td>\n",
       "      <td>0</td>\n",
       "      <td>0</td>\n",
       "      <td>0</td>\n",
       "      <td>0</td>\n",
       "      <td>0</td>\n",
       "      <td>0</td>\n",
       "      <td>0</td>\n",
       "      <td>0</td>\n",
       "      <td>0</td>\n",
       "    </tr>\n",
       "    <tr>\n",
       "      <th>15286</th>\n",
       "      <td>0</td>\n",
       "      <td>0</td>\n",
       "      <td>0</td>\n",
       "      <td>0</td>\n",
       "      <td>0</td>\n",
       "      <td>0</td>\n",
       "      <td>0</td>\n",
       "      <td>0</td>\n",
       "      <td>0</td>\n",
       "      <td>0</td>\n",
       "      <td>...</td>\n",
       "      <td>0</td>\n",
       "      <td>0</td>\n",
       "      <td>0</td>\n",
       "      <td>0</td>\n",
       "      <td>0</td>\n",
       "      <td>0</td>\n",
       "      <td>0</td>\n",
       "      <td>0</td>\n",
       "      <td>0</td>\n",
       "      <td>0</td>\n",
       "    </tr>\n",
       "    <tr>\n",
       "      <th>15287</th>\n",
       "      <td>0</td>\n",
       "      <td>0</td>\n",
       "      <td>0</td>\n",
       "      <td>0</td>\n",
       "      <td>0</td>\n",
       "      <td>0</td>\n",
       "      <td>0</td>\n",
       "      <td>0</td>\n",
       "      <td>0</td>\n",
       "      <td>0</td>\n",
       "      <td>...</td>\n",
       "      <td>0</td>\n",
       "      <td>0</td>\n",
       "      <td>0</td>\n",
       "      <td>0</td>\n",
       "      <td>0</td>\n",
       "      <td>0</td>\n",
       "      <td>0</td>\n",
       "      <td>0</td>\n",
       "      <td>0</td>\n",
       "      <td>0</td>\n",
       "    </tr>\n",
       "    <tr>\n",
       "      <th>15288</th>\n",
       "      <td>0</td>\n",
       "      <td>0</td>\n",
       "      <td>0</td>\n",
       "      <td>0</td>\n",
       "      <td>0</td>\n",
       "      <td>0</td>\n",
       "      <td>0</td>\n",
       "      <td>0</td>\n",
       "      <td>0</td>\n",
       "      <td>0</td>\n",
       "      <td>...</td>\n",
       "      <td>0</td>\n",
       "      <td>0</td>\n",
       "      <td>0</td>\n",
       "      <td>0</td>\n",
       "      <td>0</td>\n",
       "      <td>0</td>\n",
       "      <td>0</td>\n",
       "      <td>0</td>\n",
       "      <td>0</td>\n",
       "      <td>0</td>\n",
       "    </tr>\n",
       "    <tr>\n",
       "      <th>15289</th>\n",
       "      <td>0</td>\n",
       "      <td>0</td>\n",
       "      <td>0</td>\n",
       "      <td>0</td>\n",
       "      <td>0</td>\n",
       "      <td>0</td>\n",
       "      <td>0</td>\n",
       "      <td>0</td>\n",
       "      <td>0</td>\n",
       "      <td>0</td>\n",
       "      <td>...</td>\n",
       "      <td>0</td>\n",
       "      <td>0</td>\n",
       "      <td>0</td>\n",
       "      <td>0</td>\n",
       "      <td>0</td>\n",
       "      <td>0</td>\n",
       "      <td>0</td>\n",
       "      <td>0</td>\n",
       "      <td>0</td>\n",
       "      <td>0</td>\n",
       "    </tr>\n",
       "  </tbody>\n",
       "</table>\n",
       "<p>15290 rows × 3853 columns</p>\n",
       "</div>"
      ],
      "text/plain": [
       "       aa  aaa  aadare  aalindaya  aaliyah  aari  aashkii  aaysha  abacus  \\\n",
       "0       0    0       0          0        0     0        0       0       0   \n",
       "1       0    0       0          0        0     0        0       0       1   \n",
       "2       0    0       0          0        0     0        0       0       0   \n",
       "3       0    0       0          0        0     0        0       0       0   \n",
       "4       0    0       0          0        0     0        0       0       0   \n",
       "...    ..  ...     ...        ...      ...   ...      ...     ...     ...   \n",
       "15285   0    0       0          0        0     0        0       0       0   \n",
       "15286   0    0       0          0        0     0        0       0       0   \n",
       "15287   0    0       0          0        0     0        0       0       0   \n",
       "15288   0    0       0          0        0     0        0       0       0   \n",
       "15289   0    0       0          0        0     0        0       0       0   \n",
       "\n",
       "       abans  ...  zen  zenith  zero  zion  zodiac  zone  zoo  zoysa  zuls  \\\n",
       "0          0  ...    0       0     0     0       0     0    0      0     0   \n",
       "1          0  ...    0       0     0     0       0     0    0      0     0   \n",
       "2          0  ...    0       0     0     0       0     0    0      0     0   \n",
       "3          0  ...    0       0     0     0       0     0    0      0     0   \n",
       "4          0  ...    0       0     0     0       0     0    0      0     0   \n",
       "...      ...  ...  ...     ...   ...   ...     ...   ...  ...    ...   ...   \n",
       "15285      0  ...    0       0     0     0       0     0    0      0     0   \n",
       "15286      0  ...    0       0     0     0       0     0    0      0     0   \n",
       "15287      0  ...    0       0     0     0       0     0    0      0     0   \n",
       "15288      0  ...    0       0     0     0       0     0    0      0     0   \n",
       "15289      0  ...    0       0     0     0       0     0    0      0     0   \n",
       "\n",
       "       zumba  \n",
       "0          0  \n",
       "1          0  \n",
       "2          0  \n",
       "3          0  \n",
       "4          0  \n",
       "...      ...  \n",
       "15285      0  \n",
       "15286      0  \n",
       "15287      0  \n",
       "15288      0  \n",
       "15289      0  \n",
       "\n",
       "[15290 rows x 3853 columns]"
      ]
     },
     "execution_count": 65,
     "metadata": {},
     "output_type": "execute_result"
    }
   ],
   "source": [
    "bow_table"
   ]
  },
  {
   "cell_type": "code",
   "execution_count": 36,
   "id": "c088eb45",
   "metadata": {},
   "outputs": [],
   "source": [
    "X_train,X_test,y_train,y_test = train_test_split(bow_table,places_data['purpose'],test_size=0.2, random_state=32)"
   ]
  },
  {
   "cell_type": "markdown",
   "id": "de176e28",
   "metadata": {},
   "source": [
    "### Naive Bayes Model "
   ]
  },
  {
   "cell_type": "raw",
   "id": "7e9ec5d7",
   "metadata": {},
   "source": [
    "nb = Pipeline([('vec', CountVectorizer()) ,\n",
    "              ('clf', MultinomialNB(fit_prior=True))])"
   ]
  },
  {
   "cell_type": "code",
   "execution_count": 84,
   "id": "1ba6df88",
   "metadata": {},
   "outputs": [],
   "source": [
    "nb = MultinomialNB(fit_prior=True)"
   ]
  },
  {
   "cell_type": "code",
   "execution_count": 85,
   "id": "1a969190",
   "metadata": {},
   "outputs": [
    {
     "data": {
      "text/plain": [
       "MultinomialNB()"
      ]
     },
     "execution_count": 85,
     "metadata": {},
     "output_type": "execute_result"
    }
   ],
   "source": [
    "nb.fit(X_train, y_train)"
   ]
  },
  {
   "cell_type": "code",
   "execution_count": 86,
   "id": "86cf5435",
   "metadata": {},
   "outputs": [],
   "source": [
    "y_pred = nb.predict(X_test)"
   ]
  },
  {
   "cell_type": "code",
   "execution_count": 87,
   "id": "a1028999",
   "metadata": {},
   "outputs": [
    {
     "data": {
      "text/plain": [
       "0.7354480052321779"
      ]
     },
     "execution_count": 87,
     "metadata": {},
     "output_type": "execute_result"
    }
   ],
   "source": [
    "nb.score(X_test,y_test)"
   ]
  },
  {
   "cell_type": "code",
   "execution_count": 88,
   "id": "fcf0c81c",
   "metadata": {},
   "outputs": [
    {
     "name": "stdout",
     "output_type": "stream",
     "text": [
      "              precision    recall  f1-score   support\n",
      "\n",
      "      dining       0.66      0.75      0.70       398\n",
      "   education       0.75      0.85      0.80       210\n",
      "     medical       0.70      0.83      0.76       216\n",
      "    personal       0.82      0.70      0.75      1368\n",
      "    shopping       0.67      0.72      0.69       807\n",
      "     transit       0.86      1.00      0.92        59\n",
      "\n",
      "    accuracy                           0.74      3058\n",
      "   macro avg       0.74      0.81      0.77      3058\n",
      "weighted avg       0.74      0.74      0.74      3058\n",
      "\n"
     ]
    }
   ],
   "source": [
    "print(classification_report(y_pred,y_test))"
   ]
  },
  {
   "cell_type": "markdown",
   "id": "f2dc9991",
   "metadata": {},
   "source": [
    "### SVM Classifier from SGDC"
   ]
  },
  {
   "cell_type": "code",
   "execution_count": 45,
   "id": "0b0c3bb7",
   "metadata": {},
   "outputs": [],
   "source": [
    "from sklearn.linear_model import SGDClassifier"
   ]
  },
  {
   "cell_type": "markdown",
   "id": "bbcd0d34",
   "metadata": {},
   "source": [
    "sgd = Pipeline([('vect', CountVectorizer()),\n",
    "                ('clf', SGDClassifier(loss='modified_huber', penalty='l2',alpha=1e-3, random_state=32, \n",
    "                                      max_iter=100, tol=None, learning_rate = 'optimal', class_weight = 'balanced'))])"
   ]
  },
  {
   "cell_type": "code",
   "execution_count": 163,
   "id": "aa63d26b",
   "metadata": {},
   "outputs": [],
   "source": [
    "paramters = {'loss':np.array(['modified_huber', 'hinge', 'log',  'squared_hinge' , 'perceptron'])}"
   ]
  },
  {
   "cell_type": "code",
   "execution_count": 46,
   "id": "138da527",
   "metadata": {},
   "outputs": [],
   "source": [
    "sgd =  SGDClassifier(loss = 'modified_huber', penalty='l2',alpha=1e-3, random_state=32, \n",
    "                                      max_iter=100, tol=None, learning_rate = 'optimal', class_weight = 'balanced')"
   ]
  },
  {
   "cell_type": "code",
   "execution_count": 47,
   "id": "604b40b2",
   "metadata": {},
   "outputs": [
    {
     "data": {
      "text/plain": [
       "SGDClassifier(alpha=0.001, class_weight='balanced', loss='modified_huber',\n",
       "              max_iter=100, random_state=32, tol=None)"
      ]
     },
     "execution_count": 47,
     "metadata": {},
     "output_type": "execute_result"
    }
   ],
   "source": [
    "sgd.fit(X_train, y_train)"
   ]
  },
  {
   "cell_type": "code",
   "execution_count": 48,
   "id": "6bc15f4a",
   "metadata": {},
   "outputs": [],
   "source": [
    "y_pred = sgd.predict(X_test)"
   ]
  },
  {
   "cell_type": "code",
   "execution_count": 49,
   "id": "e5c89103",
   "metadata": {},
   "outputs": [
    {
     "name": "stdout",
     "output_type": "stream",
     "text": [
      "accuracy 0.7586657946370177\n"
     ]
    }
   ],
   "source": [
    "print('accuracy %s' % accuracy_score(y_pred, y_test))"
   ]
  },
  {
   "cell_type": "code",
   "execution_count": 50,
   "id": "23601c2a",
   "metadata": {},
   "outputs": [
    {
     "name": "stdout",
     "output_type": "stream",
     "text": [
      "              precision    recall  f1-score   support\n",
      "\n",
      "      dining       0.76      0.70      0.73       457\n",
      "   education       0.82      0.77      0.79       240\n",
      "     medical       0.81      0.79      0.80       256\n",
      "    personal       0.84      0.73      0.78      1164\n",
      "    shopping       0.65      0.81      0.72       872\n",
      "     transit       0.79      0.93      0.85        69\n",
      "\n",
      "    accuracy                           0.76      3058\n",
      "   macro avg       0.78      0.79      0.78      3058\n",
      "weighted avg       0.77      0.76      0.76      3058\n",
      "\n"
     ]
    }
   ],
   "source": [
    "print(classification_report(y_test, y_pred))"
   ]
  },
  {
   "cell_type": "code",
   "execution_count": 167,
   "id": "d3fe5cbc",
   "metadata": {},
   "outputs": [],
   "source": [
    "sgdlr =  SGDClassifier(loss = 'modified_huber', penalty='l1',alpha=1e-3, random_state=32, \n",
    "                                      max_iter=100, tol=None, learning_rate = 'optimal', class_weight = 'balanced')"
   ]
  },
  {
   "cell_type": "code",
   "execution_count": 168,
   "id": "c8703e66",
   "metadata": {},
   "outputs": [
    {
     "data": {
      "text/plain": [
       "SGDClassifier(alpha=0.001, class_weight='balanced', loss='modified_huber',\n",
       "              max_iter=100, penalty='l1', random_state=32, tol=None)"
      ]
     },
     "execution_count": 168,
     "metadata": {},
     "output_type": "execute_result"
    }
   ],
   "source": [
    "sgdlr.fit(X_train, y_train)"
   ]
  },
  {
   "cell_type": "code",
   "execution_count": 170,
   "id": "7bf5cbaa",
   "metadata": {},
   "outputs": [],
   "source": [
    "y_pred = sgdlr.predict(X_test)"
   ]
  },
  {
   "cell_type": "code",
   "execution_count": 171,
   "id": "2b41dbba",
   "metadata": {},
   "outputs": [
    {
     "name": "stdout",
     "output_type": "stream",
     "text": [
      "accuracy 0.6756049705689994\n"
     ]
    }
   ],
   "source": [
    "print('accuracy %s' % accuracy_score(y_pred, y_test))"
   ]
  },
  {
   "cell_type": "code",
   "execution_count": 172,
   "id": "1d923de8",
   "metadata": {},
   "outputs": [
    {
     "name": "stdout",
     "output_type": "stream",
     "text": [
      "              precision    recall  f1-score   support\n",
      "\n",
      "      dining       0.75      0.58      0.65       457\n",
      "   education       0.81      0.70      0.75       240\n",
      "     medical       0.76      0.71      0.73       256\n",
      "    personal       0.85      0.56      0.68      1164\n",
      "    shopping       0.53      0.84      0.65       872\n",
      "     transit       0.62      0.93      0.74        69\n",
      "\n",
      "    accuracy                           0.68      3058\n",
      "   macro avg       0.72      0.72      0.70      3058\n",
      "weighted avg       0.73      0.68      0.68      3058\n",
      "\n"
     ]
    }
   ],
   "source": [
    "print(classification_report(y_test, y_pred))"
   ]
  },
  {
   "cell_type": "markdown",
   "id": "a82b94ef",
   "metadata": {},
   "source": [
    "### Logistics Regression Classifier "
   ]
  },
  {
   "cell_type": "code",
   "execution_count": 60,
   "id": "25732128",
   "metadata": {},
   "outputs": [],
   "source": [
    "from sklearn.linear_model import LogisticRegression"
   ]
  },
  {
   "cell_type": "markdown",
   "id": "99cd25df",
   "metadata": {},
   "source": [
    "pipeline = Pipeline([('vect', CountVectorizer()),\n",
    "                ('clf', LogisticRegression())])"
   ]
  },
  {
   "cell_type": "code",
   "execution_count": 61,
   "id": "c8f3c019",
   "metadata": {},
   "outputs": [],
   "source": [
    "clf = LogisticRegression()"
   ]
  },
  {
   "cell_type": "code",
   "execution_count": 153,
   "id": "93e8a5c2",
   "metadata": {},
   "outputs": [],
   "source": [
    "parameters = {'solver':np.array(['newton-cg', 'lbfgs', 'liblinear', 'sag', 'saga'])}"
   ]
  },
  {
   "cell_type": "code",
   "execution_count": 154,
   "id": "006b0278",
   "metadata": {},
   "outputs": [],
   "source": [
    "logreg = GridSearchCV(clf, param_grid = parameters)"
   ]
  },
  {
   "cell_type": "markdown",
   "id": "b6202b2e",
   "metadata": {},
   "source": [
    "logreg = LogisticRegression(max_iter=100)"
   ]
  },
  {
   "cell_type": "code",
   "execution_count": 62,
   "id": "8d118410",
   "metadata": {},
   "outputs": [
    {
     "name": "stderr",
     "output_type": "stream",
     "text": [
      "C:\\Users\\HP\\anaconda3\\envs\\ML1\\lib\\site-packages\\sklearn\\linear_model\\_logistic.py:763: ConvergenceWarning: lbfgs failed to converge (status=1):\n",
      "STOP: TOTAL NO. of ITERATIONS REACHED LIMIT.\n",
      "\n",
      "Increase the number of iterations (max_iter) or scale the data as shown in:\n",
      "    https://scikit-learn.org/stable/modules/preprocessing.html\n",
      "Please also refer to the documentation for alternative solver options:\n",
      "    https://scikit-learn.org/stable/modules/linear_model.html#logistic-regression\n",
      "  n_iter_i = _check_optimize_result(\n"
     ]
    },
    {
     "data": {
      "text/plain": [
       "LogisticRegression()"
      ]
     },
     "execution_count": 62,
     "metadata": {},
     "output_type": "execute_result"
    }
   ],
   "source": [
    "clf.fit(X_train,y_train)"
   ]
  },
  {
   "cell_type": "code",
   "execution_count": 63,
   "id": "b20ba055",
   "metadata": {},
   "outputs": [],
   "source": [
    "y_pred = clf.predict(X_test)"
   ]
  },
  {
   "cell_type": "code",
   "execution_count": 64,
   "id": "3a74b1ca",
   "metadata": {},
   "outputs": [
    {
     "name": "stdout",
     "output_type": "stream",
     "text": [
      "accuracy 0.7586657946370177\n"
     ]
    }
   ],
   "source": [
    "print('accuracy %s' % accuracy_score(y_pred, y_test))"
   ]
  },
  {
   "cell_type": "code",
   "execution_count": 158,
   "id": "12b8a9a2",
   "metadata": {},
   "outputs": [
    {
     "data": {
      "text/plain": [
       "{'solver': 'newton-cg'}"
      ]
     },
     "execution_count": 158,
     "metadata": {},
     "output_type": "execute_result"
    }
   ],
   "source": [
    "logreg.best_params_"
   ]
  },
  {
   "cell_type": "code",
   "execution_count": null,
   "id": "f54e23fd",
   "metadata": {},
   "outputs": [],
   "source": [
    "print(classification_report(y_test, y_pred))"
   ]
  },
  {
   "cell_type": "markdown",
   "id": "e56e8944",
   "metadata": {},
   "source": [
    "### KNN "
   ]
  },
  {
   "cell_type": "code",
   "execution_count": 51,
   "id": "64cc7e1e",
   "metadata": {},
   "outputs": [],
   "source": [
    "from sklearn.neighbors import KNeighborsClassifier"
   ]
  },
  {
   "cell_type": "markdown",
   "id": "e78ad18b",
   "metadata": {},
   "source": [
    "pipeline = Pipeline([('vec', CountVectorizer()),('knn',KNeighborsClassifier())])"
   ]
  },
  {
   "cell_type": "code",
   "execution_count": 52,
   "id": "f17be6b2",
   "metadata": {},
   "outputs": [],
   "source": [
    "knn = KNeighborsClassifier()"
   ]
  },
  {
   "cell_type": "code",
   "execution_count": 114,
   "id": "84b63036",
   "metadata": {},
   "outputs": [],
   "source": [
    "parameters = {'n_neighbors':np.arange(1,50)}"
   ]
  },
  {
   "cell_type": "code",
   "execution_count": 115,
   "id": "7b5d9cb0",
   "metadata": {},
   "outputs": [],
   "source": [
    "knn = GridSearchCV(knn, param_grid = parameters)"
   ]
  },
  {
   "cell_type": "code",
   "execution_count": 53,
   "id": "f23b0f88",
   "metadata": {},
   "outputs": [
    {
     "data": {
      "text/plain": [
       "KNeighborsClassifier()"
      ]
     },
     "execution_count": 53,
     "metadata": {},
     "output_type": "execute_result"
    }
   ],
   "source": [
    "knn.fit(X_train,y_train)"
   ]
  },
  {
   "cell_type": "code",
   "execution_count": 54,
   "id": "8c7e0093",
   "metadata": {},
   "outputs": [],
   "source": [
    "y_pred = knn.predict(X_test)"
   ]
  },
  {
   "cell_type": "code",
   "execution_count": 55,
   "id": "dbaae21b",
   "metadata": {},
   "outputs": [
    {
     "name": "stdout",
     "output_type": "stream",
     "text": [
      "accuracy 0.6262262916939176\n"
     ]
    }
   ],
   "source": [
    "print('accuracy %s' % accuracy_score(y_pred, y_test))"
   ]
  },
  {
   "cell_type": "code",
   "execution_count": 59,
   "id": "7e6d6d92",
   "metadata": {},
   "outputs": [
    {
     "ename": "AttributeError",
     "evalue": "'KNeighborsClassifier' object has no attribute 'get_parameters'",
     "output_type": "error",
     "traceback": [
      "\u001b[1;31m---------------------------------------------------------------------------\u001b[0m",
      "\u001b[1;31mAttributeError\u001b[0m                            Traceback (most recent call last)",
      "\u001b[1;32m<ipython-input-59-e2e941743b88>\u001b[0m in \u001b[0;36m<module>\u001b[1;34m\u001b[0m\n\u001b[1;32m----> 1\u001b[1;33m \u001b[0mknn\u001b[0m\u001b[1;33m.\u001b[0m\u001b[0mget_parameters\u001b[0m\u001b[1;33m\u001b[0m\u001b[1;33m\u001b[0m\u001b[0m\n\u001b[0m",
      "\u001b[1;31mAttributeError\u001b[0m: 'KNeighborsClassifier' object has no attribute 'get_parameters'"
     ]
    }
   ],
   "source": [
    "knn.params_"
   ]
  },
  {
   "cell_type": "code",
   "execution_count": 124,
   "id": "e6f7000f",
   "metadata": {},
   "outputs": [
    {
     "name": "stdout",
     "output_type": "stream",
     "text": [
      "              precision    recall  f1-score   support\n",
      "\n",
      "      dining       0.63      0.53      0.58       457\n",
      "   education       0.85      0.62      0.72       240\n",
      "     medical       0.68      0.61      0.64       256\n",
      "    personal       0.60      0.73      0.66      1164\n",
      "    shopping       0.60      0.53      0.56       872\n",
      "     transit       0.72      0.93      0.81        69\n",
      "\n",
      "    accuracy                           0.63      3058\n",
      "   macro avg       0.68      0.66      0.66      3058\n",
      "weighted avg       0.63      0.63      0.62      3058\n",
      "\n"
     ]
    }
   ],
   "source": [
    "print(classification_report(y_test, y_pred))"
   ]
  },
  {
   "cell_type": "markdown",
   "id": "8800a75f",
   "metadata": {},
   "source": [
    "### Random Forest "
   ]
  },
  {
   "cell_type": "code",
   "execution_count": 38,
   "id": "034d1724",
   "metadata": {},
   "outputs": [],
   "source": [
    "from sklearn.ensemble import RandomForestClassifier"
   ]
  },
  {
   "cell_type": "markdown",
   "id": "3373382d",
   "metadata": {},
   "source": [
    "pipeline = Pipeline([('vec', CountVectorizer()), ('clf',RandomForestClassifier(n_estimators=100,))])"
   ]
  },
  {
   "cell_type": "code",
   "execution_count": 126,
   "id": "fe15f1d5",
   "metadata": {},
   "outputs": [],
   "source": [
    "parameters = {'n_estimators':np.array([20,50,80,100,150,200])}"
   ]
  },
  {
   "cell_type": "code",
   "execution_count": 39,
   "id": "5eb31bfe",
   "metadata": {},
   "outputs": [],
   "source": [
    "clf = RandomForestClassifier(n_estimators= 150)"
   ]
  },
  {
   "cell_type": "code",
   "execution_count": 128,
   "id": "28918376",
   "metadata": {},
   "outputs": [],
   "source": [
    "rfc = GridSearchCV(clf, param_grid = parameters)"
   ]
  },
  {
   "cell_type": "code",
   "execution_count": 40,
   "id": "673a8afc",
   "metadata": {},
   "outputs": [
    {
     "data": {
      "text/plain": [
       "RandomForestClassifier(n_estimators=150)"
      ]
     },
     "execution_count": 40,
     "metadata": {},
     "output_type": "execute_result"
    }
   ],
   "source": [
    "clf.fit(X_train,y_train)"
   ]
  },
  {
   "cell_type": "code",
   "execution_count": 131,
   "id": "ec4bd67a",
   "metadata": {},
   "outputs": [
    {
     "data": {
      "text/plain": [
       "{'n_estimators': 150}"
      ]
     },
     "execution_count": 131,
     "metadata": {},
     "output_type": "execute_result"
    }
   ],
   "source": [
    "rfc.best_params_"
   ]
  },
  {
   "cell_type": "code",
   "execution_count": 42,
   "id": "afe8900a",
   "metadata": {},
   "outputs": [],
   "source": [
    "y_pred = clf.predict(X_test)"
   ]
  },
  {
   "cell_type": "code",
   "execution_count": 43,
   "id": "91567293",
   "metadata": {},
   "outputs": [
    {
     "name": "stdout",
     "output_type": "stream",
     "text": [
      "accuracy 0.7289077828646174\n"
     ]
    }
   ],
   "source": [
    "print('accuracy %s' % accuracy_score(y_pred, y_test))"
   ]
  },
  {
   "cell_type": "code",
   "execution_count": 44,
   "id": "ae6ef0bb",
   "metadata": {},
   "outputs": [
    {
     "name": "stdout",
     "output_type": "stream",
     "text": [
      "              precision    recall  f1-score   support\n",
      "\n",
      "      dining       0.75      0.64      0.69       457\n",
      "   education       0.85      0.69      0.76       240\n",
      "     medical       0.80      0.71      0.75       256\n",
      "    personal       0.79      0.73      0.76      1164\n",
      "    shopping       0.62      0.78      0.69       872\n",
      "     transit       0.84      0.90      0.87        69\n",
      "\n",
      "    accuracy                           0.73      3058\n",
      "   macro avg       0.77      0.74      0.75      3058\n",
      "weighted avg       0.74      0.73      0.73      3058\n",
      "\n"
     ]
    }
   ],
   "source": [
    "print(classification_report(y_test, y_pred))"
   ]
  },
  {
   "cell_type": "markdown",
   "id": "d636b5a2",
   "metadata": {},
   "source": [
    "###  keras NN"
   ]
  },
  {
   "cell_type": "code",
   "execution_count": 376,
   "id": "aaee674e",
   "metadata": {},
   "outputs": [],
   "source": [
    "from sklearn.preprocessing import LabelBinarizer, LabelEncoder\n",
    "from sklearn.metrics import confusion_matrix"
   ]
  },
  {
   "cell_type": "code",
   "execution_count": 370,
   "id": "1f98cdad",
   "metadata": {},
   "outputs": [],
   "source": [
    "from tensorflow import keras\n",
    "from keras.models import Sequential\n",
    "from keras.layers import Dense, Activation, Dropout\n",
    "from keras.preprocessing import text, sequence\n",
    "from keras import utils"
   ]
  },
  {
   "cell_type": "code",
   "execution_count": 372,
   "id": "d4cb91c2",
   "metadata": {},
   "outputs": [],
   "source": [
    "train_size = int(len(places_data) * .7)\n",
    "train_posts = places_data['clean_name'][:train_size]\n",
    "train_tags = places_data['purpose'][:train_size]\n",
    "\n",
    "test_posts = places_data['clean_name'][train_size:]\n",
    "test_tags = places_data['purpose'][train_size:]"
   ]
  },
  {
   "cell_type": "code",
   "execution_count": 396,
   "id": "3d0fc1e4",
   "metadata": {},
   "outputs": [],
   "source": [
    "max_words = 10000\n",
    "tokenize = text.Tokenizer(num_words=max_words, char_level=False)\n",
    "tokenize.fit_on_texts(train_posts) # only fit on train"
   ]
  },
  {
   "cell_type": "code",
   "execution_count": 397,
   "id": "f5a5b0db",
   "metadata": {},
   "outputs": [],
   "source": [
    "x_train = tokenize.texts_to_matrix(train_posts)\n",
    "x_test = tokenize.texts_to_matrix(test_posts)"
   ]
  },
  {
   "cell_type": "code",
   "execution_count": 398,
   "id": "2e3c712f",
   "metadata": {},
   "outputs": [],
   "source": [
    "encoder = LabelEncoder()\n",
    "encoder.fit(train_tags)\n",
    "y_train = encoder.transform(train_tags)\n",
    "y_test = encoder.transform(test_tags)"
   ]
  },
  {
   "cell_type": "code",
   "execution_count": 399,
   "id": "5be7b18e",
   "metadata": {},
   "outputs": [],
   "source": [
    "num_classes = np.max(y_train) + 1\n",
    "y_train = utils.to_categorical(y_train, num_classes)\n",
    "y_test = utils.to_categorical(y_test, num_classes)"
   ]
  },
  {
   "cell_type": "code",
   "execution_count": 400,
   "id": "8b07946a",
   "metadata": {},
   "outputs": [],
   "source": [
    "batch_size = 32\n",
    "epochs = 2"
   ]
  },
  {
   "cell_type": "code",
   "execution_count": 401,
   "id": "83f91031",
   "metadata": {},
   "outputs": [
    {
     "name": "stdout",
     "output_type": "stream",
     "text": [
      "Epoch 1/2\n",
      "301/301 [==============================] - 6s 21ms/step - loss: 1.0775 - accuracy: 0.5986 - val_loss: 0.7615 - val_accuracy: 0.7292\n",
      "Epoch 2/2\n",
      "301/301 [==============================] - 6s 21ms/step - loss: 0.5080 - accuracy: 0.8384 - val_loss: 0.7050 - val_accuracy: 0.7376\n"
     ]
    }
   ],
   "source": [
    "# Build the model\n",
    "model = Sequential()\n",
    "model.add(Dense(512, input_shape=(max_words,)))\n",
    "model.add(Activation('relu'))\n",
    "model.add(Dropout(0.5))\n",
    "model.add(Dense(num_classes))\n",
    "model.add(Activation('softmax'))\n",
    "\n",
    "model.compile(loss='categorical_crossentropy',\n",
    "              optimizer='adam',\n",
    "              metrics=['accuracy'])\n",
    "              \n",
    "history = model.fit(x_train, y_train,\n",
    "                    batch_size=batch_size,\n",
    "                    epochs=epochs,\n",
    "                    verbose=1,\n",
    "                    validation_split=0.1)"
   ]
  },
  {
   "cell_type": "code",
   "execution_count": 402,
   "id": "ac1ab816",
   "metadata": {},
   "outputs": [
    {
     "name": "stdout",
     "output_type": "stream",
     "text": [
      "144/144 [==============================] - 1s 5ms/step - loss: 0.8713 - accuracy: 0.6787\n",
      "Test accuracy: 0.678657054901123\n"
     ]
    }
   ],
   "source": [
    "score = model.evaluate(x_test, y_test,\n",
    "                       batch_size=batch_size, verbose=1)\n",
    "print('Test accuracy:', score[1])"
   ]
  },
  {
   "cell_type": "code",
   "execution_count": null,
   "id": "056218fb",
   "metadata": {},
   "outputs": [],
   "source": []
  },
  {
   "cell_type": "code",
   "execution_count": null,
   "id": "cff0d7d7",
   "metadata": {},
   "outputs": [],
   "source": []
  }
 ],
 "metadata": {
  "kernelspec": {
   "display_name": "Python 3",
   "language": "python",
   "name": "python3"
  },
  "language_info": {
   "codemirror_mode": {
    "name": "ipython",
    "version": 3
   },
   "file_extension": ".py",
   "mimetype": "text/x-python",
   "name": "python",
   "nbconvert_exporter": "python",
   "pygments_lexer": "ipython3",
   "version": "3.8.8"
  }
 },
 "nbformat": 4,
 "nbformat_minor": 5
}
