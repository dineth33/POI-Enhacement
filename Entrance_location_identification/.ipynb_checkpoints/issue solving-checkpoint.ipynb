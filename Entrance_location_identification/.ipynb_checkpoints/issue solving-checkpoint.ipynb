{
 "cells": [
  {
   "cell_type": "markdown",
   "id": "18981d9c",
   "metadata": {},
   "source": [
    "## Solutions for the big land area POI issue and home based trips issue"
   ]
  },
  {
   "cell_type": "markdown",
   "id": "48821845",
   "metadata": {},
   "source": [
    "### Big land area POI issue"
   ]
  },
  {
   "cell_type": "markdown",
   "id": "6b1fd968",
   "metadata": {},
   "source": [
    "- 100m Walking Radius (R) given for a DOP may not capture POIs with large land areas. Increasing the  R as a remedy tends to capture unnecessary POIs. \n",
    "- More suitable solution is to identify the possible entering points or passenger DOPs for these POIs  \n",
    "- Developed solution is two-fold. <br/>\n",
    "    1.)  Identifying the possible POIs with large land areas from total POI dataset. <br/>\n",
    "    2.)  Identifying the possible entering points for the selected POIs  \n",
    "\n"
   ]
  },
  {
   "cell_type": "code",
   "execution_count": 1,
   "id": "b5bd9ce9",
   "metadata": {},
   "outputs": [
    {
     "data": {
      "text/plain": [
       "'D:\\\\MSC\\\\Data'"
      ]
     },
     "execution_count": 1,
     "metadata": {},
     "output_type": "execute_result"
    }
   ],
   "source": [
    "import os \n",
    "os.chdir('D:\\MSC\\Data')\n",
    "os.getcwd()"
   ]
  },
  {
   "cell_type": "code",
   "execution_count": 52,
   "id": "8f8c3308",
   "metadata": {},
   "outputs": [],
   "source": [
    "import pandas as pd \n",
    "import math\n",
    "import numpy as np\n",
    "import matplotlib.pyplot as plt\n",
    "import geopandas as gpd\n",
    "from shapely.geometry import Point\n",
    "import seaborn as sns\n",
    "import folium\n",
    "from math import cos, sqrt \n",
    "pd.options.mode.chained_assignment = None"
   ]
  },
  {
   "cell_type": "code",
   "execution_count": 48,
   "id": "1948f685",
   "metadata": {},
   "outputs": [],
   "source": [
    "from sklearn.cluster import KMeans\n",
    "from sklearn.preprocessing import StandardScaler\n",
    "from sklearn.cluster import DBSCAN\n",
    "from sklearn.neighbors import NearestNeighbors"
   ]
  },
  {
   "cell_type": "markdown",
   "id": "7796b08b",
   "metadata": {},
   "source": [
    "### importing data "
   ]
  },
  {
   "cell_type": "code",
   "execution_count": 44,
   "id": "5af84d5c",
   "metadata": {},
   "outputs": [],
   "source": [
    "# importing the places data and converting to a geodataframe \n",
    "places = pd.read_csv(\"places\\\\places for dss\\\\thi_jpura_dehi_cleaned_places.csv\", index_col = 0)\n",
    "geometry = [Point(xy) for xy in zip(places.lng, places.lat)]\n",
    "placesgpd  = gpd.GeoDataFrame(places, crs=\"EPSG:4326\", geometry=geometry)\n",
    "placesgpd.crs = \"EPSG:4326\""
   ]
  },
  {
   "cell_type": "code",
   "execution_count": 8,
   "id": "3a4d13cf",
   "metadata": {},
   "outputs": [],
   "source": [
    "# importing and filtering out the roads within the colombo district \n",
    "slroads = gpd.read_file('road network\\hotosm_lka_roads_lines.shp',crs = {'init': 'epsg:4326'})\n",
    "sri_lanka = gpd.read_file('administration shapes\\lka_admbnda_adm2_slsd_20200305.shp',crs = {'init': 'epsg:4326'})\n",
    "colombo = sri_lanka[sri_lanka['ADM2_EN']=='Colombo']\n",
    "colombo.reset_index(drop=True, inplace=True)\n",
    "mask = slroads.within(colombo.loc[0,'geometry'])\n",
    "colombo_roads = slroads.loc[mask]"
   ]
  },
  {
   "cell_type": "code",
   "execution_count": 47,
   "id": "3c5ed420",
   "metadata": {},
   "outputs": [],
   "source": [
    "# importing the taxi data and converting it to a geodataframe \n",
    "taxidata = pd.read_csv('pickme data\\\\nov\\\\thi_jupra_dehi_data_nov_45.csv', index_col = 0, parse_dates = [13])\n",
    "geometry = [Point(xy) for xy in zip(taxidata.dropoff_long, taxidata.dropoff_lat)]\n",
    "taxidata  = gpd.GeoDataFrame(taxidata, crs=\"EPSG:4326\", geometry=geometry)\n",
    "taxidata.crs = \"EPSG:4326\""
   ]
  },
  {
   "cell_type": "markdown",
   "id": "89c80dda",
   "metadata": {},
   "source": [
    "#### Filtering out the highly attractive POIs "
   ]
  },
  {
   "cell_type": "markdown",
   "id": "172b7471",
   "metadata": {},
   "source": [
    "KNN clustering is used for the 'no of ratinngs' attribute of Places dataset to identify what kind of groups are within the attribute, which may help to remove the groups or clusters of places that are not much attractive."
   ]
  },
  {
   "cell_type": "markdown",
   "id": "da6cd298",
   "metadata": {},
   "source": [
    "To do that, it is required to turn the Null values to 0 in the 'no of ratings' attibute"
   ]
  },
  {
   "cell_type": "code",
   "execution_count": 13,
   "id": "f80c339f",
   "metadata": {},
   "outputs": [],
   "source": [
    "for idx,row in places.iterrows():\n",
    "    if math.isnan(row['no_of_ratings']) == True:\n",
    "            places.loc[idx,'no_of_ratings'] = 0"
   ]
  },
  {
   "cell_type": "code",
   "execution_count": 14,
   "id": "42a3ca24",
   "metadata": {},
   "outputs": [],
   "source": [
    "Xy = pd.DataFrame(places[['no_of_ratings']])"
   ]
  },
  {
   "cell_type": "code",
   "execution_count": 15,
   "id": "8a831f98",
   "metadata": {},
   "outputs": [],
   "source": [
    "scaler = StandardScaler()"
   ]
  },
  {
   "cell_type": "code",
   "execution_count": 16,
   "id": "e5a78e62",
   "metadata": {},
   "outputs": [],
   "source": [
    "X = scaler.fit_transform(Xy)"
   ]
  },
  {
   "cell_type": "markdown",
   "id": "ea35e523",
   "metadata": {},
   "source": [
    "checking what would be the optimal number of clusters is done. However, the optimal is mainly selected referrring the minimum, maximum value of ratings from the obtained from the clusters. In that case it was decided to selected 14 clusters and remove "
   ]
  },
  {
   "cell_type": "code",
   "execution_count": 17,
   "id": "f4dbd04a",
   "metadata": {},
   "outputs": [],
   "source": [
    "inertialist = []\n",
    "nclusters = [1,2,3,4,5,6,7,8,9,10,11,12,13,14,15,16,17,18,19,20]\n",
    "for i in nclusters:\n",
    "    model = KMeans(n_clusters=i)\n",
    "    model.fit(X)\n",
    "    inert = model.inertia_\n",
    "    inertialist.append(inert)"
   ]
  },
  {
   "cell_type": "code",
   "execution_count": 18,
   "id": "416fc58b",
   "metadata": {},
   "outputs": [
    {
     "data": {
      "text/plain": [
       "[<matplotlib.lines.Line2D at 0x2cef20c90a0>]"
      ]
     },
     "execution_count": 18,
     "metadata": {},
     "output_type": "execute_result"
    },
    {
     "data": {
      "image/png": "[encoded data removed]",
      "text/plain": [
       "<Figure size 432x288 with 1 Axes>"
      ]
     },
     "metadata": {
      "needs_background": "light"
     },
     "output_type": "display_data"
    }
   ],
   "source": [
    "plt.plot(nclusters , inertialist)"
   ]
  },
  {
   "cell_type": "markdown",
   "id": "5946fd35",
   "metadata": {},
   "source": [
    "it is decided to go with 14 clusters "
   ]
  },
  {
   "cell_type": "code",
   "execution_count": 29,
   "id": "9ac4bb7f",
   "metadata": {},
   "outputs": [],
   "source": [
    "model = KMeans(n_clusters=14, random_state=32)"
   ]
  },
  {
   "cell_type": "code",
   "execution_count": 30,
   "id": "932525fe",
   "metadata": {},
   "outputs": [
    {
     "data": {
      "text/plain": [
       "KMeans(n_clusters=14, random_state=32)"
      ]
     },
     "execution_count": 30,
     "metadata": {},
     "output_type": "execute_result"
    }
   ],
   "source": [
    "model.fit(X)"
   ]
  },
  {
   "cell_type": "code",
   "execution_count": 31,
   "id": "486365fb",
   "metadata": {},
   "outputs": [],
   "source": [
    "clusterlabels = model.predict(X)"
   ]
  },
  {
   "cell_type": "code",
   "execution_count": 32,
   "id": "a6d254f0",
   "metadata": {},
   "outputs": [],
   "source": [
    "Xy['cluster_name'] = clusterlabels.tolist()"
   ]
  },
  {
   "cell_type": "code",
   "execution_count": 33,
   "id": "0299d1d1",
   "metadata": {},
   "outputs": [
    {
     "data": {
      "text/plain": [
       "cluster_name\n",
       "0        36.0\n",
       "1      9011.0\n",
       "2      1766.0\n",
       "3      3612.0\n",
       "4     18746.0\n",
       "5       328.0\n",
       "6       890.0\n",
       "7      7493.0\n",
       "8      2364.0\n",
       "9      4691.0\n",
       "10    11428.0\n",
       "11      590.0\n",
       "12      141.0\n",
       "13     1271.0\n",
       "Name: no_of_ratings, dtype: float64"
      ]
     },
     "execution_count": 33,
     "metadata": {},
     "output_type": "execute_result"
    }
   ],
   "source": [
    "Xy.groupby('cluster_name')['no_of_ratings'].max()"
   ]
  },
  {
   "cell_type": "markdown",
   "id": "cf1caa66",
   "metadata": {},
   "source": [
    "since the cluster 0 has a maximum number of 36 ratings, it was decided to remove that cluster, the following helps to identify the number of places belongs to each cluster. it can be seen that majority of the places belong to the removed cluster "
   ]
  },
  {
   "cell_type": "code",
   "execution_count": 35,
   "id": "226289b7",
   "metadata": {},
   "outputs": [
    {
     "name": "stdout",
     "output_type": "stream",
     "text": [
      "[[    0 26661]\n",
      " [    1     2]\n",
      " [    2    37]\n",
      " [    3    21]\n",
      " [    4     1]\n",
      " [    5   452]\n",
      " [    6   111]\n",
      " [    7     3]\n",
      " [    8    34]\n",
      " [    9     7]\n",
      " [   10     3]\n",
      " [   11   206]\n",
      " [   12  1652]\n",
      " [   13    71]]\n"
     ]
    }
   ],
   "source": [
    "(unique, counts) = np.unique(clusterlabels, return_counts=True)\n",
    "frequencies = np.asarray((unique, counts)).T\n",
    "print(frequencies)"
   ]
  },
  {
   "cell_type": "markdown",
   "id": "cf3154a1",
   "metadata": {},
   "source": [
    "then we remove the unwanted cluster and take the data (with the indexes) to go for the second clustering, which is based on the distance from the road  "
   ]
  },
  {
   "cell_type": "code",
   "execution_count": 39,
   "id": "8c6635b0",
   "metadata": {},
   "outputs": [],
   "source": [
    "Xy =  Xy[Xy['cluster_name'] != 0]"
   ]
  },
  {
   "cell_type": "markdown",
   "id": "b153b9d2",
   "metadata": {},
   "source": [
    "#### filtering out for the distance from road "
   ]
  },
  {
   "cell_type": "markdown",
   "id": "d1c7efca",
   "metadata": {},
   "source": [
    "before do this, we have to measure the linear distance a places from the selected places data has from the roads. and that is done in the following first "
   ]
  },
  {
   "cell_type": "code",
   "execution_count": 45,
   "id": "fe9f3923",
   "metadata": {},
   "outputs": [],
   "source": [
    "places = places.loc[Xy.index]"
   ]
  },
  {
   "cell_type": "code",
   "execution_count": null,
   "id": "b9cb8079",
   "metadata": {},
   "outputs": [],
   "source": [
    "for idx,row in places.iterrows():\n",
    "    Point_DOP = Point(row['lng'],row['lat'])\n",
    "    Buffer = Point_DOP.buffer(100*0.001/110) \n",
    "    \n",
    "    idxlists = []\n",
    "    for idxx,roww in colombo_roads.iterrows():   \n",
    "       if Buffer.intersects(roww['geometry']) == True:\n",
    "            idxlists.append(idxx)      \n",
    "    places.loc[idx,'no_of_roads'] = len(idxlists)\n",
    "    \n",
    "    if len(idxlists) > 0:\n",
    "        \n",
    "        selectedroadss = colombo_roads.loc[idxlists,:]\n",
    "        \n",
    "        distancelist = []\n",
    "        for idxxx,rowss in selectedroadss.iterrows():\n",
    "            distance = (Point_DOP.distance(rowss['geometry']))*10000\n",
    "            distancelist.append(distance)\n",
    "        places.loc[idx,'road_min_distace'] = min(distancelist)"
   ]
  },
  {
   "cell_type": "code",
   "execution_count": 14,
   "id": "9c86395f",
   "metadata": {},
   "outputs": [],
   "source": [
    "Xy = pd.DataFrame(places[['road_min_distace']])"
   ]
  },
  {
   "cell_type": "code",
   "execution_count": 15,
   "id": "84e07210",
   "metadata": {},
   "outputs": [],
   "source": [
    "scaler = StandardScaler()"
   ]
  },
  {
   "cell_type": "code",
   "execution_count": 16,
   "id": "cafa1932",
   "metadata": {},
   "outputs": [],
   "source": [
    "X = scaler.fit_transform(Xy)"
   ]
  },
  {
   "cell_type": "markdown",
   "id": "a3f6d057",
   "metadata": {},
   "source": [
    "checking what would be the optimal number of clusters is done. However, the optimal is mainly selected referrring the maximum values for the distance from the obtained from the clusters. In that case it was decided to selected 14 clusters and remove "
   ]
  },
  {
   "cell_type": "code",
   "execution_count": 17,
   "id": "c4579dd2",
   "metadata": {},
   "outputs": [],
   "source": [
    "inertialist = []\n",
    "nclusters = [1,2,3,4,5,6,7,8,9,10,11,12,13,14,15,16,17,18,19,20]\n",
    "for i in nclusters:\n",
    "    model = KMeans(n_clusters=i)\n",
    "    model.fit(X)\n",
    "    inert = model.inertia_\n",
    "    inertialist.append(inert)"
   ]
  },
  {
   "cell_type": "code",
   "execution_count": 18,
   "id": "d272a7fc",
   "metadata": {},
   "outputs": [
    {
     "data": {
      "text/plain": [
       "[<matplotlib.lines.Line2D at 0x2cef20c90a0>]"
      ]
     },
     "execution_count": 18,
     "metadata": {},
     "output_type": "execute_result"
    },
    {
     "data": {
      "image/png": "[encoded data removed]",
      "text/plain": [
       "<Figure size 432x288 with 1 Axes>"
      ]
     },
     "metadata": {
      "needs_background": "light"
     },
     "output_type": "display_data"
    }
   ],
   "source": [
    "plt.plot(nclusters , inertialist)"
   ]
  },
  {
   "cell_type": "markdown",
   "id": "c0be4818",
   "metadata": {},
   "source": [
    "it is decided to go with 14 clusters "
   ]
  },
  {
   "cell_type": "code",
   "execution_count": 29,
   "id": "45fa2c15",
   "metadata": {},
   "outputs": [],
   "source": [
    "model = KMeans(n_clusters=14, random_state=32)"
   ]
  },
  {
   "cell_type": "code",
   "execution_count": 30,
   "id": "b5e89ee1",
   "metadata": {},
   "outputs": [
    {
     "data": {
      "text/plain": [
       "KMeans(n_clusters=14, random_state=32)"
      ]
     },
     "execution_count": 30,
     "metadata": {},
     "output_type": "execute_result"
    }
   ],
   "source": [
    "model.fit(X)"
   ]
  },
  {
   "cell_type": "code",
   "execution_count": 31,
   "id": "d38bcc54",
   "metadata": {},
   "outputs": [],
   "source": [
    "clusterlabels = model.predict(X)"
   ]
  },
  {
   "cell_type": "code",
   "execution_count": 32,
   "id": "808a835f",
   "metadata": {},
   "outputs": [],
   "source": [
    "Xy['cluster_name'] = clusterlabels.tolist()"
   ]
  },
  {
   "cell_type": "code",
   "execution_count": 33,
   "id": "23f19f06",
   "metadata": {},
   "outputs": [
    {
     "data": {
      "text/plain": [
       "cluster_name\n",
       "0        36.0\n",
       "1      9011.0\n",
       "2      1766.0\n",
       "3      3612.0\n",
       "4     18746.0\n",
       "5       328.0\n",
       "6       890.0\n",
       "7      7493.0\n",
       "8      2364.0\n",
       "9      4691.0\n",
       "10    11428.0\n",
       "11      590.0\n",
       "12      141.0\n",
       "13     1271.0\n",
       "Name: no_of_ratings, dtype: float64"
      ]
     },
     "execution_count": 33,
     "metadata": {},
     "output_type": "execute_result"
    }
   ],
   "source": [
    "Xy.groupby('cluster_name')['road_min_distace'].max()"
   ]
  },
  {
   "cell_type": "code",
   "execution_count": 35,
   "id": "7d4fcd2f",
   "metadata": {},
   "outputs": [
    {
     "name": "stdout",
     "output_type": "stream",
     "text": [
      "[[    0 26661]\n",
      " [    1     2]\n",
      " [    2    37]\n",
      " [    3    21]\n",
      " [    4     1]\n",
      " [    5   452]\n",
      " [    6   111]\n",
      " [    7     3]\n",
      " [    8    34]\n",
      " [    9     7]\n",
      " [   10     3]\n",
      " [   11   206]\n",
      " [   12  1652]\n",
      " [   13    71]]\n"
     ]
    }
   ],
   "source": [
    "(unique, counts) = np.unique(clusterlabels, return_counts=True)\n",
    "frequencies = np.asarray((unique, counts)).T\n",
    "print(frequencies)"
   ]
  },
  {
   "cell_type": "markdown",
   "id": "41bb9a04",
   "metadata": {},
   "source": [
    "then we remove the unwanted clusters and take the data (with the indexes), which are identified POIs with attractive and big land areas."
   ]
  },
  {
   "cell_type": "code",
   "execution_count": 39,
   "id": "20c46f40",
   "metadata": {},
   "outputs": [],
   "source": [
    "Xy =  Xy[Xy['cluster_name'] != 0]"
   ]
  },
  {
   "cell_type": "code",
   "execution_count": null,
   "id": "e936ef4e",
   "metadata": {},
   "outputs": [],
   "source": []
  },
  {
   "cell_type": "markdown",
   "id": "4934269a",
   "metadata": {},
   "source": [
    "#### Identifying the possible drop off points"
   ]
  },
  {
   "cell_type": "markdown",
   "id": "9e99c30b",
   "metadata": {},
   "source": [
    "DBSCAN algorithm is used to identify the clusters of drop off points, which helps to do it by two parameters as eps and minimum number of gps points. "
   ]
  },
  {
   "cell_type": "markdown",
   "id": "585820b8",
   "metadata": {},
   "source": [
    "Estimating the eps value that could be used in clustering the taxi drop off points is done. Here it is done only for a sample Place. When trying out different samples, it was obvisous that the 0.0002 is the most viable value that can be used.  "
   ]
  },
  {
   "cell_type": "code",
   "execution_count": null,
   "id": "98563fa5",
   "metadata": {},
   "outputs": [],
   "source": [
    "# Selecting a sample point to check the eps value \n",
    "POI = places.loc[place_index,['lat','lng']].values \n",
    "Point_POI = Point(POI[1],POI[0]) # convert to point type\n",
    "Buffer = Point_POI.buffer(radius) # create the buffer for the Point giving the radius \n",
    "mask = taxidata.within(Buffer) ## filter the data for the required buffer zone \n",
    "radius_data = taxidata.loc[mask]\n",
    "\n",
    "X = radius_data[['dropoff_lat','dropoff_long']]"
   ]
  },
  {
   "cell_type": "code",
   "execution_count": 22,
   "id": "d2d47024",
   "metadata": {},
   "outputs": [],
   "source": [
    "neigh = NearestNeighbors(n_neighbors = 2)\n",
    "nbrs = neigh.fit(X)\n",
    "distances, indices = nbrs.kneighbors(X)"
   ]
  },
  {
   "cell_type": "code",
   "execution_count": 25,
   "id": "8f7cc81c",
   "metadata": {},
   "outputs": [
    {
     "data": {
      "text/plain": [
       "[<matplotlib.lines.Line2D at 0x223613f7130>]"
      ]
     },
     "execution_count": 25,
     "metadata": {},
     "output_type": "execute_result"
    },
    {
     "data": {
      "image/png": "[encoded data removed]",
      "text/plain": [
       "<Figure size 432x288 with 1 Axes>"
      ]
     },
     "metadata": {
      "needs_background": "light"
     },
     "output_type": "display_data"
    }
   ],
   "source": [
    "distances = np.sort(distances, axis=0)\n",
    "distances = distances[:,1]\n",
    "plt.plot(distances)"
   ]
  },
  {
   "cell_type": "markdown",
   "id": "56102a6a",
   "metadata": {},
   "source": [
    "The y values at the arm bend of the above curve can ba identified as the best value the eps. because it shows the number of taxi drop off points that got into the clusters "
   ]
  },
  {
   "cell_type": "markdown",
   "id": "427d0f50",
   "metadata": {},
   "source": [
    "After determining the eps value, we can go to our main task, which is identifying the possible dop locations for attractive big land area places. Here we cluster the taxi trip dops around a radius of 200m of radius (except for few places which has a higher distance from the road (cluster no 1) ).  Definitely more clusters can be found for a one place. In that case the cluster with the minimum distance from the considered place is selected. \n",
    "\n",
    "Another fact is that altough we cannot take a exact center location for the cluster after observations it was decided that a viable center point can be obtained just by taking the minimum of both lat and long values. In that case that value is used in this analysis. This value also given as the possible entering location. \n",
    "\n",
    "There are possibilities that some places might have one or more entering locations. For an instance, hospitals. In that  case, the distace to all of these clusters are measured and if the distance gap is not substaial (here we assumed it as 20m) it was decided to keep them all as entering locations. \n"
   ]
  },
  {
   "cell_type": "code",
   "execution_count": 136,
   "id": "a1b74db4",
   "metadata": {},
   "outputs": [],
   "source": [
    "## smalll fun to calculate the starightlits distance, soruce: STACKOVERFLOW\n",
    "def qick_distance(Lat1, Long1, Lat2, Long2):\n",
    "    \"\"\"smalll fun to calculate the starightlits distance\"\"\" \n",
    "    \n",
    "    x = Lat2 - Lat1\n",
    "    y = (Long2 - Long1) * cos((Lat2 + Lat1)*0.00872664626)  \n",
    "    return 111.319 * sqrt(x*x + y*y)*1000"
   ]
  },
  {
   "cell_type": "code",
   "execution_count": null,
   "id": "f6d566e5",
   "metadata": {},
   "outputs": [],
   "source": [
    "for idx,row in places.iterrows():\n",
    "   \n",
    "    place_index = idx ## input the index of the POI \n",
    "    \n",
    "    if row['cluster_labels'] == 1:\n",
    "        radius = 400*0.001/110\n",
    "    else:\n",
    "        radius = 200*0.001/110 #(110m = 0.001) (##idk about this convertion but it is right)\n",
    "\n",
    "    POI = places.loc[place_index,['lat','lng']].values \n",
    "\n",
    "    Point_POI = Point(POI[1],POI[0]) # convert to point type\n",
    "\n",
    "    Buffer = Point_POI.buffer(radius) # create the buffer for the Point giving the radius \n",
    "\n",
    "    mask = taxidata.within(Buffer) ## filter the data for the required buffer zone \n",
    "    radius_data = taxidata.loc[mask]\n",
    "\n",
    "    X = radius_data[['dropoff_lat','dropoff_long']]\n",
    "    \n",
    "    if X.shape[0] == 0:\n",
    "        \n",
    "        continue\n",
    "    \n",
    "    model = DBSCAN(eps=0.0002, min_samples = 10)\n",
    "    \n",
    "    model.fit(X)\n",
    "    \n",
    "    clusterlabels = model.labels_\n",
    "    \n",
    "    radius_data['cluster_no'] = clusterlabels.tolist()\n",
    "    \n",
    "    clusters = np.sort(radius_data['cluster_no'].unique())\n",
    "    \n",
    "    grouped_clusters = radius_data.groupby('cluster_no')\n",
    "    \n",
    "    clusters_for_POI = pd.DataFrame()\n",
    "    \n",
    "    for i, cluster in enumerate(clusters):\n",
    "        selected_cluster = grouped_clusters.get_group(cluster)\n",
    "        mean_lat, mean_lng  =  selected_cluster['dropoff_lat'].mean() , selected_cluster['dropoff_long'].mean()\n",
    "        clusters_for_POI.loc[i,'cluster'] = cluster\n",
    "        clusters_for_POI.loc[i,'lat'] = mean_lat\n",
    "        clusters_for_POI.loc[i,'lng'] = mean_lng\n",
    "        clusters_for_POI.loc[i,'distance'] = qick_distance(POI[0], POI[1], mean_lat, mean_lng)\n",
    "    clusters_for_POI =  clusters_for_POI.drop(0)\n",
    "    \n",
    "    if clusters_for_POI.shape[0] != 0: ## process if only there are good clusters. \n",
    "        \n",
    "        clusters_for_POI['distance_difference'] = clusters_for_POI['distance'] - clusters_for_POI['distance'].min()\n",
    "\n",
    "        for idxx,rows in clusters_for_POI.iterrows(): # drop all the clusters that has a distance more than 20m and keep the rest \n",
    "            if rows['distance_difference'] > 20:\n",
    "                clusters_for_POI.drop(idxx, inplace = True)\n",
    "        \n",
    "        for idxxx,rowss in clusters_for_POI.iterrows() # save the cluster locations as new places in the places dataset \n",
    "            new_index = place_index +str(idxxx)\n",
    "            places.loc[new_index,:] = places.loc[place_index,:]\n",
    "            places.loc[new_index,['lat_1','lng_1']] = rowss['lat'], rowss['lng']"
   ]
  },
  {
   "cell_type": "code",
   "execution_count": null,
   "id": "1f9a2bd8",
   "metadata": {},
   "outputs": [],
   "source": [
    "places.to_csv('')"
   ]
  },
  {
   "cell_type": "markdown",
   "id": "b13cc36d",
   "metadata": {},
   "source": [
    "<div class=\"alert alert-block alert-warning\">\n",
    "<b> Note :</b> Visualizing the clustered drop off points near a place \n",
    "</div>"
   ]
  },
  {
   "cell_type": "code",
   "execution_count": null,
   "id": "b6bd9e53",
   "metadata": {},
   "outputs": [],
   "source": [
    "place_index = 'ChIJY-4CjWNZ4joRGZP7dE2cZZ8' ## input the index of the trip DOP want to consider \n",
    "radius = 200*0.001/110 #(110m = 0.001) (##idk about this convertion but it is right)"
   ]
  },
  {
   "cell_type": "code",
   "execution_count": null,
   "id": "7197f175",
   "metadata": {},
   "outputs": [],
   "source": [
    "POI = places.loc[place_index,['lat','lng']].values \n",
    "Point_POI = Point(POI[1],POI[0]) # convert to point type\n",
    "Buffer = Point_POI.buffer(radius) # create the buffer for the Point giving the radius \n",
    "mask = taxidata.within(Buffer) ## filter the data for the required buffer zone \n",
    "radius_data = taxidata.loc[mask]"
   ]
  },
  {
   "cell_type": "code",
   "execution_count": 25,
   "id": "e2b0edb7",
   "metadata": {},
   "outputs": [],
   "source": [
    "grouped_clusters = radius_data.groupby('cluster_no')"
   ]
  },
  {
   "cell_type": "code",
   "execution_count": null,
   "id": "95555392",
   "metadata": {},
   "outputs": [],
   "source": [
    "## mapping \n",
    "m = folium.Map(location=POI,zoom_start=25)\n",
    "folium.Marker(list(POI), icon=folium.Icon(color='red',icon='none')).add_to(m)\n",
    "for idx, row in radius_data.iterrows():\n",
    "    folium.Marker([row['dropoff_lat'], row['dropoff_long']]).add_to(m)\n",
    "## , popup=row['name']+str(\"\\n\")+row['type_1']+str(\"\\n\")+str(row['no_of_ratings']\n",
    "folium.GeoJson(Buffer).add_to(m)"
   ]
  },
  {
   "cell_type": "code",
   "execution_count": null,
   "id": "4f016a9a",
   "metadata": {},
   "outputs": [],
   "source": [
    "## mapping \n",
    "m = folium.Map(location=POI,zoom_start=25)\n",
    "folium.Marker(list(POI), icon=folium.Icon(color='red',icon='none')).add_to(m)\n",
    "clusters = np.sort(radius_data['cluster_no'].unique())\n",
    "grouped_clusters = radius_data.groupby('cluster_no')\n",
    "colors = ['black','orange','yellow', 'beige', 'darkblue', 'darkgreen', 'cadetblue','lightgreen', 'gray']\n",
    "for i, cluster in enumerate(clusters):\n",
    "    selected_cluster = grouped_clusters.get_group(cluster)\n",
    "    mean_lat, mean_lng  =  selected_cluster['dropoff_lat'].mean() , selected_cluster['dropoff_long'].mean()\n",
    "    folium.Marker([mean_lat, mean_lng],  icon=folium.Icon(color=colors[i+1],icon='none')).add_to(m)\n",
    "    for idx, row in  selected_cluster.iterrows():\n",
    "        folium.Marker([row['dropoff_lat'], row['dropoff_long']],  icon=folium.Icon(color=colors[i],icon='none')).add_to(m)\n",
    "## , popup=row['name']+str(\"\\n\")+row['type_1']+str(\"\\n\")+str(row['no_of_ratings']\n",
    "folium.GeoJson(Buffer).add_to(m)"
   ]
  },
  {
   "cell_type": "code",
   "execution_count": null,
   "id": "c0a1105e",
   "metadata": {},
   "outputs": [],
   "source": [
    "m"
   ]
  },
  {
   "cell_type": "markdown",
   "id": "0a42da2f",
   "metadata": {},
   "source": [
    "### Trips destined to residential places "
   ]
  },
  {
   "cell_type": "markdown",
   "id": "7c268162",
   "metadata": {},
   "source": [
    "- Houses are not included in the POI dataset. Neglecting this assign incorrect purpose for trip destined for houses.  \n",
    "- Developed method is based on three assumptions!  <br/>\n",
    "    1. DOPs per day can’t be located as a groups (clusters)  <br/>\n",
    "    2. DOPs  shouldn’t locate with a very close proximity to the main road  <br/>\n",
    "    3. If the trips destined away from main roads belongs to a POI, it should be within 15m!"
   ]
  },
  {
   "cell_type": "markdown",
   "id": "6c18a0f3",
   "metadata": {},
   "source": [
    "#### filtering out for the grouped drop off points "
   ]
  },
  {
   "cell_type": "markdown",
   "id": "f25fa62d",
   "metadata": {},
   "source": [
    "according to the first assumption, the DBSCAN algorithm is used to identify the groups of taxi drop off points. then those groups are removed and the outliers are only kept.\n",
    "\n",
    "Note : this analysis is done based on data for a single day. because when dealing with data for a period of time, definetly there could be groups when the passengers are using the service to fulfill the mandatory activities "
   ]
  },
  {
   "cell_type": "code",
   "execution_count": 50,
   "id": "737e6a57",
   "metadata": {},
   "outputs": [],
   "source": [
    "# getting the dates and creating a group object to process the analysis day by day \n",
    "dates = taxidata['drop_time'].dt.day.unique()\n",
    "taxidata_perday_g = taxidata.groupby(taxidata['drop_time'].dt.day)"
   ]
  },
  {
   "cell_type": "code",
   "execution_count": 53,
   "id": "016c6a77",
   "metadata": {},
   "outputs": [],
   "source": [
    "possible_home = pd.DataFrame(columns = taxidata.columns)\n",
    "for day in dates:\n",
    "    taxidata_perday = taxidata_perday_g.get_group(day)\n",
    "    X = taxidata_perday[['dropoff_lat','dropoff_long']]\n",
    "    model = DBSCAN(eps=0.0002, min_samples = 2)\n",
    "    model.fit(X)\n",
    "    clusterlabels = model.labels_\n",
    "    taxidata_perday['cluster_no'] = clusterlabels.tolist()\n",
    "    selected_data = taxidata_perday[taxidata_perday['cluster_no']==-1]\n",
    "    possible_home = possible_home.append(selected_data)"
   ]
  },
  {
   "cell_type": "code",
   "execution_count": 57,
   "id": "4a56b0e3",
   "metadata": {},
   "outputs": [
    {
     "data": {
      "text/plain": [
       "(107617, 27212)"
      ]
     },
     "execution_count": 57,
     "metadata": {},
     "output_type": "execute_result"
    }
   ],
   "source": [
    "taxidata.shape[0], possible_home.shape[0]"
   ]
  },
  {
   "cell_type": "markdown",
   "id": "f97a9ae8",
   "metadata": {},
   "source": [
    "#### filtering out the drop off points close to the road"
   ]
  },
  {
   "cell_type": "code",
   "execution_count": 17,
   "id": "49dde63f",
   "metadata": {},
   "outputs": [],
   "source": [
    "possible_home_per_day = possible_home[possible_home['drop_time'].dt.day==4]"
   ]
  },
  {
   "cell_type": "markdown",
   "id": "4df19171",
   "metadata": {},
   "source": [
    "Before going to removal of drop off points near to the roads, we have to go calculate the distance the distance each drop off point has from the road. "
   ]
  },
  {
   "cell_type": "code",
   "execution_count": null,
   "id": "1937ea9a",
   "metadata": {},
   "outputs": [],
   "source": [
    "for idx,row in possible_home_per_day.iterrows():\n",
    "    Point_DOP =  Point(row['dropoff_long'], row['dropoff_lat'])\n",
    "    distancelist = []\n",
    "    for idxx,rows in colombo_roads.iterrows():\n",
    "        distance = (Point_DOP.distance(rows['geometry']))*10000\n",
    "        distancelist.append(distance)\n",
    "    possible_home_per_day.loc[idx,'road_min_distace'] = min(distancelist)"
   ]
  },
  {
   "cell_type": "markdown",
   "id": "ce75bb70",
   "metadata": {},
   "source": [
    "with that we can go for the clustering, just like before the number of is determined not only by referring the elbow, but also considering the maximum of the distances  get from the clusters. "
   ]
  },
  {
   "cell_type": "code",
   "execution_count": 73,
   "id": "fde85cea",
   "metadata": {},
   "outputs": [],
   "source": [
    "Xy = pd.DataFrame(possible_home_per_day[['road_min_distace']])"
   ]
  },
  {
   "cell_type": "code",
   "execution_count": 74,
   "id": "03b7d987",
   "metadata": {},
   "outputs": [],
   "source": [
    "scaler = StandardScaler()"
   ]
  },
  {
   "cell_type": "code",
   "execution_count": 75,
   "id": "e35fd561",
   "metadata": {},
   "outputs": [],
   "source": [
    "X = scaler.fit_transform(Xy)"
   ]
  },
  {
   "cell_type": "code",
   "execution_count": 76,
   "id": "2b82f1e4",
   "metadata": {},
   "outputs": [],
   "source": [
    "inertialist = []\n",
    "nclusters = [1,2,3,4,5,6,7,8,9,10,11,12,13,14,15,16,17,18,19,20]\n",
    "for i in nclusters:\n",
    "    model = KMeans(n_clusters=i)\n",
    "    model.fit(X)\n",
    "    inert = model.inertia_\n",
    "    inertialist.append(inert)"
   ]
  },
  {
   "cell_type": "code",
   "execution_count": 77,
   "id": "44195864",
   "metadata": {},
   "outputs": [
    {
     "data": {
      "text/plain": [
       "[<matplotlib.lines.Line2D at 0x22364432d60>]"
      ]
     },
     "execution_count": 77,
     "metadata": {},
     "output_type": "execute_result"
    },
    {
     "data": {
      "image/png": "[encoded data removed]",
      "text/plain": [
       "<Figure size 432x288 with 1 Axes>"
      ]
     },
     "metadata": {
      "needs_background": "light"
     },
     "output_type": "display_data"
    }
   ],
   "source": [
    "plt.plot(nclusters , inertialist)"
   ]
  },
  {
   "cell_type": "code",
   "execution_count": 177,
   "id": "05137a0f",
   "metadata": {},
   "outputs": [],
   "source": [
    "## start of the clustering "
   ]
  },
  {
   "cell_type": "code",
   "execution_count": 78,
   "id": "cdfc7e9a",
   "metadata": {},
   "outputs": [],
   "source": [
    "model = KMeans(n_clusters=10, random_state=32)"
   ]
  },
  {
   "cell_type": "code",
   "execution_count": 79,
   "id": "78ce2e05",
   "metadata": {},
   "outputs": [
    {
     "data": {
      "text/plain": [
       "KMeans(n_clusters=10, random_state=32)"
      ]
     },
     "execution_count": 79,
     "metadata": {},
     "output_type": "execute_result"
    }
   ],
   "source": [
    "model.fit(X)"
   ]
  },
  {
   "cell_type": "code",
   "execution_count": 80,
   "id": "4b75d19c",
   "metadata": {},
   "outputs": [],
   "source": [
    "clusterlabels = model.predict(X)"
   ]
  },
  {
   "cell_type": "code",
   "execution_count": 81,
   "id": "35243250",
   "metadata": {},
   "outputs": [
    {
     "name": "stdout",
     "output_type": "stream",
     "text": [
      "[[  0 557]\n",
      " [  1 150]\n",
      " [  2 628]\n",
      " [  3 356]\n",
      " [  4  98]\n",
      " [  5 286]\n",
      " [  6 603]\n",
      " [  7 446]\n",
      " [  8 792]\n",
      " [  9  58]]\n"
     ]
    }
   ],
   "source": [
    "(unique, counts) = np.unique(clusterlabels, return_counts=True)\n",
    "frequencies = np.asarray((unique, counts)).T\n",
    "\n",
    "print(frequencies)"
   ]
  },
  {
   "cell_type": "code",
   "execution_count": 82,
   "id": "01c2425a",
   "metadata": {},
   "outputs": [
    {
     "data": {
      "text/plain": [
       "56.608500314031744"
      ]
     },
     "execution_count": 82,
     "metadata": {},
     "output_type": "execute_result"
    }
   ],
   "source": [
    "model.inertia_"
   ]
  },
  {
   "cell_type": "code",
   "execution_count": 83,
   "id": "a93ce65f",
   "metadata": {},
   "outputs": [],
   "source": [
    "Xy['cluster_name'] = clusterlabels.tolist()"
   ]
  },
  {
   "cell_type": "code",
   "execution_count": 84,
   "id": "a6b7348b",
   "metadata": {},
   "outputs": [
    {
     "data": {
      "text/plain": [
       "cluster_name\n",
       "0    17.793598\n",
       "1    45.998008\n",
       "2     7.445719\n",
       "3    30.234388\n",
       "4    55.681842\n",
       "5    37.680814\n",
       "6    12.403188\n",
       "7    23.650267\n",
       "8     3.041321\n",
       "9    75.967688\n",
       "Name: road_min_distace, dtype: float64"
      ]
     },
     "execution_count": 84,
     "metadata": {},
     "output_type": "execute_result"
    }
   ],
   "source": [
    "Xy.groupby('cluster_name')['road_min_distace'].max()"
   ]
  },
  {
   "cell_type": "code",
   "execution_count": null,
   "id": "87e42bd6",
   "metadata": {},
   "outputs": [],
   "source": [
    "possible_home_per_day['cluster_labels'] = clusterlabels.tolist()"
   ]
  },
  {
   "cell_type": "code",
   "execution_count": 91,
   "id": "b37d69c3",
   "metadata": {},
   "outputs": [],
   "source": [
    "possible_home_per_day_selected =  possible_home_per_day[possible_home_per_day['cluster_labels'].isin([0,1,3,4,5,6,7,9])]"
   ]
  },
  {
   "cell_type": "code",
   "execution_count": 92,
   "id": "d3f524f3",
   "metadata": {},
   "outputs": [],
   "source": [
    "possible_home_per_day_selected.to_csv('home_trips_test.csv')"
   ]
  },
  {
   "cell_type": "markdown",
   "id": "a1bd8174",
   "metadata": {},
   "source": [
    "#### filtering out of the trips destined to normal places "
   ]
  },
  {
   "cell_type": "markdown",
   "id": "078e012c",
   "metadata": {},
   "source": [
    "If the trip had destined to a normal place instead of a residential place, it is assumed that a POI must stay within a radius of 15m. (a simple rule). This is because in the residential areas in general, there is less difficulty to stop nearly to a place.  "
   ]
  },
  {
   "cell_type": "code",
   "execution_count": null,
   "id": "61b85c53",
   "metadata": {},
   "outputs": [],
   "source": [
    "# consider if there are any POIs exist within a radius of 15m, and if so drop it from the dataframe \n",
    "for idx,row in possible_home_per_day_selected.iterrows():\n",
    "   \n",
    "    DOP = [row['dropoff_lat'], row['dropoff_long']]\n",
    "    Point_DOP = Point(DOP[1],DOP[0]) \n",
    "    Buffer = Point_DOP.buffer(15*0.001/110) ## (110m = 0.001) (##idk about this convertion but it is right)\n",
    "    mask = placesgpd.within(Buffer) ## filter the data for the required buffer zone \n",
    "    \n",
    "    places_per_trip = placesgpd.loc[mask] ## Candidate POIs for the DOP \n",
    "    \n",
    "    if  places_per_trip.shape[0] == 0:\n",
    "        possible_home_per_day_selected.loc[idx,'purpose'] = 'house'"
   ]
  },
  {
   "cell_type": "code",
   "execution_count": 99,
   "id": "cd002fe0",
   "metadata": {},
   "outputs": [],
   "source": [
    "possible_home_per_day_selected[possible_home_per_day_selected['purpose'] == 'house'].to_csv('hometrips.csv')"
   ]
  },
  {
   "cell_type": "markdown",
   "id": "ff53fca8",
   "metadata": {},
   "source": [
    "<div class=\"alert alert-block alert-danger\">\n",
    "<b> Note :</b> we will have to automate the all the process to use this for the whole dataset \n",
    "</div>"
   ]
  },
  {
   "cell_type": "markdown",
   "id": "7b54c607",
   "metadata": {},
   "source": []
  }
 ],
 "metadata": {
  "kernelspec": {
   "display_name": "Python 3",
   "language": "python",
   "name": "python3"
  },
  "language_info": {
   "codemirror_mode": {
    "name": "ipython",
    "version": 3
   },
   "file_extension": ".py",
   "mimetype": "text/x-python",
   "name": "python",
   "nbconvert_exporter": "python",
   "pygments_lexer": "ipython3",
   "version": "3.8.8"
  }
 },
 "nbformat": 4,
 "nbformat_minor": 5
}
